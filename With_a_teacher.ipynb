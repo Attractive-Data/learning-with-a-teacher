{
 "cells": [
  {
   "cell_type": "markdown",
   "metadata": {
    "toc": true
   },
   "source": [
    "<h1>Содержание<span class=\"tocSkip\"></span></h1>\n",
    "<div class=\"toc\"><ul class=\"toc-item\"><li><span><a href=\"#Подготовка-данных\" data-toc-modified-id=\"Подготовка-данных-1\"><span class=\"toc-item-num\">1&nbsp;&nbsp;</span>Подготовка данных</a></span></li><li><span><a href=\"#Исследование-задачи\" data-toc-modified-id=\"Исследование-задачи-2\"><span class=\"toc-item-num\">2&nbsp;&nbsp;</span>Исследование задачи</a></span></li><li><span><a href=\"#Борьба-с-дисбалансом\" data-toc-modified-id=\"Борьба-с-дисбалансом-3\"><span class=\"toc-item-num\">3&nbsp;&nbsp;</span>Борьба с дисбалансом</a></span></li><li><span><a href=\"#Тестирование-модели\" data-toc-modified-id=\"Тестирование-модели-4\"><span class=\"toc-item-num\">4&nbsp;&nbsp;</span>Тестирование модели</a></span></li><li><span><a href=\"#Чек-лист-готовности-проекта\" data-toc-modified-id=\"Чек-лист-готовности-проекта-5\"><span class=\"toc-item-num\">5&nbsp;&nbsp;</span>Чек-лист готовности проекта</a></span></li><li><span><a href=\"#Общий-вывод-по-проекту\" data-toc-modified-id=\"Общий-вывод-по-проекту-6\"><span class=\"toc-item-num\">6&nbsp;&nbsp;</span><b>Общий вывод по проекту</b></a></span></li><li><span><a href=\"#Общий-вывод-по-проекту-В2\" data-toc-modified-id=\"Общий-вывод-по-проекту-В2-7\"><span class=\"toc-item-num\">7&nbsp;&nbsp;</span><b>Общий вывод по проекту В2</b></a></span></li></ul></div>"
   ]
  },
  {
   "cell_type": "markdown",
   "metadata": {},
   "source": [
    "# Отток клиентов"
   ]
  },
  {
   "cell_type": "markdown",
   "metadata": {},
   "source": [
    "Из «Бета-Банка» стали уходить клиенты. Каждый месяц. Немного, но заметно. Банковские маркетологи посчитали: сохранять текущих клиентов дешевле, чем привлекать новых.\n",
    "\n",
    "Нужно спрогнозировать, уйдёт клиент из банка в ближайшее время или нет. Вам предоставлены исторические данные о поведении клиентов и расторжении договоров с банком. \n",
    "\n",
    "Постройте модель с предельно большим значением *F1*-меры. Чтобы сдать проект успешно, нужно довести метрику до 0.59. Проверьте *F1*-меру на тестовой выборке самостоятельно.\n",
    "\n",
    "Дополнительно измеряйте *AUC-ROC*, сравнивайте её значение с *F1*-мерой.\n",
    "\n",
    "Источник данных: [https://www.kaggle.com/barelydedicated/bank-customer-churn-modeling](https://www.kaggle.com/barelydedicated/bank-customer-churn-modeling)"
   ]
  },
  {
   "cell_type": "markdown",
   "metadata": {},
   "source": [
    "![Текст с описанием картинки](https://picsum.photos/800/600)"
   ]
  },
  {
   "cell_type": "markdown",
   "metadata": {},
   "source": [
    "**Если любишь — отпусти, если оно твое, то обязательно вернется, если нет — то никогда твоим и не было.**\n",
    "\n",
    " \n",
    " <div style=\"text-align: right\">  «Бета-Банка» про отток своих клиентов. </div>"
   ]
  },
  {
   "cell_type": "markdown",
   "metadata": {},
   "source": [
    "# Импортируем библиотеки"
   ]
  },
  {
   "cell_type": "code",
   "execution_count": 1,
   "metadata": {},
   "outputs": [],
   "source": [
    "import pandas as pd\n",
    "import numpy as np\n",
    "from sklearn.model_selection import train_test_split\n",
    "from matplotlib import pyplot as plt\n",
    "from sklearn.utils import shuffle\n",
    "\n",
    "from sklearn.preprocessing import StandardScaler\n",
    "\n",
    "from sklearn.tree import DecisionTreeClassifier\n",
    "from sklearn.ensemble import RandomForestClassifier\n",
    "from sklearn.linear_model import LogisticRegression\n",
    "\n",
    "\n",
    "from sklearn.metrics import accuracy_score\n",
    "from sklearn.metrics import roc_curve\n",
    "from sklearn.metrics import auc\n",
    "from sklearn.metrics import f1_score\n",
    "from sklearn.metrics import confusion_matrix\n",
    "from sklearn.metrics import roc_auc_score\n",
    "\n",
    "from sklearn.dummy import DummyClassifier"
   ]
  },
  {
   "cell_type": "markdown",
   "metadata": {},
   "source": [
    "## Подготовка данных"
   ]
  },
  {
   "cell_type": "markdown",
   "metadata": {},
   "source": [
    "Загрузим данные в переменную data"
   ]
  },
  {
   "cell_type": "code",
   "execution_count": 2,
   "metadata": {},
   "outputs": [],
   "source": [
    "data = pd.read_csv('./datasets/Churn.csv')"
   ]
  },
  {
   "cell_type": "markdown",
   "metadata": {},
   "source": [
    "Посмотрим количество строк и столбцов"
   ]
  },
  {
   "cell_type": "code",
   "execution_count": 3,
   "metadata": {},
   "outputs": [
    {
     "data": {
      "text/plain": [
       "(10000, 14)"
      ]
     },
     "execution_count": 3,
     "metadata": {},
     "output_type": "execute_result"
    }
   ],
   "source": [
    "data.shape"
   ]
  },
  {
   "cell_type": "markdown",
   "metadata": {},
   "source": [
    "Проверим названия столбцов и краткую сводку по данным"
   ]
  },
  {
   "cell_type": "code",
   "execution_count": 4,
   "metadata": {},
   "outputs": [
    {
     "data": {
      "text/html": [
       "<div>\n",
       "<style scoped>\n",
       "    .dataframe tbody tr th:only-of-type {\n",
       "        vertical-align: middle;\n",
       "    }\n",
       "\n",
       "    .dataframe tbody tr th {\n",
       "        vertical-align: top;\n",
       "    }\n",
       "\n",
       "    .dataframe thead th {\n",
       "        text-align: right;\n",
       "    }\n",
       "</style>\n",
       "<table border=\"1\" class=\"dataframe\">\n",
       "  <thead>\n",
       "    <tr style=\"text-align: right;\">\n",
       "      <th></th>\n",
       "      <th>RowNumber</th>\n",
       "      <th>CustomerId</th>\n",
       "      <th>Surname</th>\n",
       "      <th>CreditScore</th>\n",
       "      <th>Geography</th>\n",
       "      <th>Gender</th>\n",
       "      <th>Age</th>\n",
       "      <th>Tenure</th>\n",
       "      <th>Balance</th>\n",
       "      <th>NumOfProducts</th>\n",
       "      <th>HasCrCard</th>\n",
       "      <th>IsActiveMember</th>\n",
       "      <th>EstimatedSalary</th>\n",
       "      <th>Exited</th>\n",
       "    </tr>\n",
       "  </thead>\n",
       "  <tbody>\n",
       "    <tr>\n",
       "      <th>0</th>\n",
       "      <td>1</td>\n",
       "      <td>15634602</td>\n",
       "      <td>Hargrave</td>\n",
       "      <td>619</td>\n",
       "      <td>France</td>\n",
       "      <td>Female</td>\n",
       "      <td>42</td>\n",
       "      <td>2.0</td>\n",
       "      <td>0.00</td>\n",
       "      <td>1</td>\n",
       "      <td>1</td>\n",
       "      <td>1</td>\n",
       "      <td>101348.88</td>\n",
       "      <td>1</td>\n",
       "    </tr>\n",
       "    <tr>\n",
       "      <th>1</th>\n",
       "      <td>2</td>\n",
       "      <td>15647311</td>\n",
       "      <td>Hill</td>\n",
       "      <td>608</td>\n",
       "      <td>Spain</td>\n",
       "      <td>Female</td>\n",
       "      <td>41</td>\n",
       "      <td>1.0</td>\n",
       "      <td>83807.86</td>\n",
       "      <td>1</td>\n",
       "      <td>0</td>\n",
       "      <td>1</td>\n",
       "      <td>112542.58</td>\n",
       "      <td>0</td>\n",
       "    </tr>\n",
       "    <tr>\n",
       "      <th>2</th>\n",
       "      <td>3</td>\n",
       "      <td>15619304</td>\n",
       "      <td>Onio</td>\n",
       "      <td>502</td>\n",
       "      <td>France</td>\n",
       "      <td>Female</td>\n",
       "      <td>42</td>\n",
       "      <td>8.0</td>\n",
       "      <td>159660.80</td>\n",
       "      <td>3</td>\n",
       "      <td>1</td>\n",
       "      <td>0</td>\n",
       "      <td>113931.57</td>\n",
       "      <td>1</td>\n",
       "    </tr>\n",
       "    <tr>\n",
       "      <th>3</th>\n",
       "      <td>4</td>\n",
       "      <td>15701354</td>\n",
       "      <td>Boni</td>\n",
       "      <td>699</td>\n",
       "      <td>France</td>\n",
       "      <td>Female</td>\n",
       "      <td>39</td>\n",
       "      <td>1.0</td>\n",
       "      <td>0.00</td>\n",
       "      <td>2</td>\n",
       "      <td>0</td>\n",
       "      <td>0</td>\n",
       "      <td>93826.63</td>\n",
       "      <td>0</td>\n",
       "    </tr>\n",
       "    <tr>\n",
       "      <th>4</th>\n",
       "      <td>5</td>\n",
       "      <td>15737888</td>\n",
       "      <td>Mitchell</td>\n",
       "      <td>850</td>\n",
       "      <td>Spain</td>\n",
       "      <td>Female</td>\n",
       "      <td>43</td>\n",
       "      <td>2.0</td>\n",
       "      <td>125510.82</td>\n",
       "      <td>1</td>\n",
       "      <td>1</td>\n",
       "      <td>1</td>\n",
       "      <td>79084.10</td>\n",
       "      <td>0</td>\n",
       "    </tr>\n",
       "  </tbody>\n",
       "</table>\n",
       "</div>"
      ],
      "text/plain": [
       "   RowNumber  CustomerId   Surname  CreditScore Geography  Gender  Age  \\\n",
       "0          1    15634602  Hargrave          619    France  Female   42   \n",
       "1          2    15647311      Hill          608     Spain  Female   41   \n",
       "2          3    15619304      Onio          502    France  Female   42   \n",
       "3          4    15701354      Boni          699    France  Female   39   \n",
       "4          5    15737888  Mitchell          850     Spain  Female   43   \n",
       "\n",
       "   Tenure    Balance  NumOfProducts  HasCrCard  IsActiveMember  \\\n",
       "0     2.0       0.00              1          1               1   \n",
       "1     1.0   83807.86              1          0               1   \n",
       "2     8.0  159660.80              3          1               0   \n",
       "3     1.0       0.00              2          0               0   \n",
       "4     2.0  125510.82              1          1               1   \n",
       "\n",
       "   EstimatedSalary  Exited  \n",
       "0        101348.88       1  \n",
       "1        112542.58       0  \n",
       "2        113931.57       1  \n",
       "3         93826.63       0  \n",
       "4         79084.10       0  "
      ]
     },
     "execution_count": 4,
     "metadata": {},
     "output_type": "execute_result"
    }
   ],
   "source": [
    "data.head()"
   ]
  },
  {
   "cell_type": "markdown",
   "metadata": {},
   "source": [
    "Проверим типы данных в столбцах"
   ]
  },
  {
   "cell_type": "code",
   "execution_count": 5,
   "metadata": {},
   "outputs": [
    {
     "name": "stdout",
     "output_type": "stream",
     "text": [
      "<class 'pandas.core.frame.DataFrame'>\n",
      "RangeIndex: 10000 entries, 0 to 9999\n",
      "Data columns (total 14 columns):\n",
      " #   Column           Non-Null Count  Dtype  \n",
      "---  ------           --------------  -----  \n",
      " 0   RowNumber        10000 non-null  int64  \n",
      " 1   CustomerId       10000 non-null  int64  \n",
      " 2   Surname          10000 non-null  object \n",
      " 3   CreditScore      10000 non-null  int64  \n",
      " 4   Geography        10000 non-null  object \n",
      " 5   Gender           10000 non-null  object \n",
      " 6   Age              10000 non-null  int64  \n",
      " 7   Tenure           9091 non-null   float64\n",
      " 8   Balance          10000 non-null  float64\n",
      " 9   NumOfProducts    10000 non-null  int64  \n",
      " 10  HasCrCard        10000 non-null  int64  \n",
      " 11  IsActiveMember   10000 non-null  int64  \n",
      " 12  EstimatedSalary  10000 non-null  float64\n",
      " 13  Exited           10000 non-null  int64  \n",
      "dtypes: float64(3), int64(8), object(3)\n",
      "memory usage: 1.1+ MB\n"
     ]
    }
   ],
   "source": [
    "data.info()"
   ]
  },
  {
   "cell_type": "markdown",
   "metadata": {},
   "source": [
    "Посмотрим общую статистику по столбцам"
   ]
  },
  {
   "cell_type": "code",
   "execution_count": 6,
   "metadata": {},
   "outputs": [
    {
     "data": {
      "text/html": [
       "<div>\n",
       "<style scoped>\n",
       "    .dataframe tbody tr th:only-of-type {\n",
       "        vertical-align: middle;\n",
       "    }\n",
       "\n",
       "    .dataframe tbody tr th {\n",
       "        vertical-align: top;\n",
       "    }\n",
       "\n",
       "    .dataframe thead th {\n",
       "        text-align: right;\n",
       "    }\n",
       "</style>\n",
       "<table border=\"1\" class=\"dataframe\">\n",
       "  <thead>\n",
       "    <tr style=\"text-align: right;\">\n",
       "      <th></th>\n",
       "      <th>count</th>\n",
       "      <th>mean</th>\n",
       "      <th>std</th>\n",
       "      <th>min</th>\n",
       "      <th>25%</th>\n",
       "      <th>50%</th>\n",
       "      <th>75%</th>\n",
       "      <th>max</th>\n",
       "    </tr>\n",
       "  </thead>\n",
       "  <tbody>\n",
       "    <tr>\n",
       "      <th>RowNumber</th>\n",
       "      <td>10000.0</td>\n",
       "      <td>5.000500e+03</td>\n",
       "      <td>2886.895680</td>\n",
       "      <td>1.00</td>\n",
       "      <td>2500.75</td>\n",
       "      <td>5.000500e+03</td>\n",
       "      <td>7.500250e+03</td>\n",
       "      <td>10000.00</td>\n",
       "    </tr>\n",
       "    <tr>\n",
       "      <th>CustomerId</th>\n",
       "      <td>10000.0</td>\n",
       "      <td>1.569094e+07</td>\n",
       "      <td>71936.186123</td>\n",
       "      <td>15565701.00</td>\n",
       "      <td>15628528.25</td>\n",
       "      <td>1.569074e+07</td>\n",
       "      <td>1.575323e+07</td>\n",
       "      <td>15815690.00</td>\n",
       "    </tr>\n",
       "    <tr>\n",
       "      <th>CreditScore</th>\n",
       "      <td>10000.0</td>\n",
       "      <td>6.505288e+02</td>\n",
       "      <td>96.653299</td>\n",
       "      <td>350.00</td>\n",
       "      <td>584.00</td>\n",
       "      <td>6.520000e+02</td>\n",
       "      <td>7.180000e+02</td>\n",
       "      <td>850.00</td>\n",
       "    </tr>\n",
       "    <tr>\n",
       "      <th>Age</th>\n",
       "      <td>10000.0</td>\n",
       "      <td>3.892180e+01</td>\n",
       "      <td>10.487806</td>\n",
       "      <td>18.00</td>\n",
       "      <td>32.00</td>\n",
       "      <td>3.700000e+01</td>\n",
       "      <td>4.400000e+01</td>\n",
       "      <td>92.00</td>\n",
       "    </tr>\n",
       "    <tr>\n",
       "      <th>Tenure</th>\n",
       "      <td>9091.0</td>\n",
       "      <td>4.997690e+00</td>\n",
       "      <td>2.894723</td>\n",
       "      <td>0.00</td>\n",
       "      <td>2.00</td>\n",
       "      <td>5.000000e+00</td>\n",
       "      <td>7.000000e+00</td>\n",
       "      <td>10.00</td>\n",
       "    </tr>\n",
       "    <tr>\n",
       "      <th>Balance</th>\n",
       "      <td>10000.0</td>\n",
       "      <td>7.648589e+04</td>\n",
       "      <td>62397.405202</td>\n",
       "      <td>0.00</td>\n",
       "      <td>0.00</td>\n",
       "      <td>9.719854e+04</td>\n",
       "      <td>1.276442e+05</td>\n",
       "      <td>250898.09</td>\n",
       "    </tr>\n",
       "    <tr>\n",
       "      <th>NumOfProducts</th>\n",
       "      <td>10000.0</td>\n",
       "      <td>1.530200e+00</td>\n",
       "      <td>0.581654</td>\n",
       "      <td>1.00</td>\n",
       "      <td>1.00</td>\n",
       "      <td>1.000000e+00</td>\n",
       "      <td>2.000000e+00</td>\n",
       "      <td>4.00</td>\n",
       "    </tr>\n",
       "    <tr>\n",
       "      <th>HasCrCard</th>\n",
       "      <td>10000.0</td>\n",
       "      <td>7.055000e-01</td>\n",
       "      <td>0.455840</td>\n",
       "      <td>0.00</td>\n",
       "      <td>0.00</td>\n",
       "      <td>1.000000e+00</td>\n",
       "      <td>1.000000e+00</td>\n",
       "      <td>1.00</td>\n",
       "    </tr>\n",
       "    <tr>\n",
       "      <th>IsActiveMember</th>\n",
       "      <td>10000.0</td>\n",
       "      <td>5.151000e-01</td>\n",
       "      <td>0.499797</td>\n",
       "      <td>0.00</td>\n",
       "      <td>0.00</td>\n",
       "      <td>1.000000e+00</td>\n",
       "      <td>1.000000e+00</td>\n",
       "      <td>1.00</td>\n",
       "    </tr>\n",
       "    <tr>\n",
       "      <th>EstimatedSalary</th>\n",
       "      <td>10000.0</td>\n",
       "      <td>1.000902e+05</td>\n",
       "      <td>57510.492818</td>\n",
       "      <td>11.58</td>\n",
       "      <td>51002.11</td>\n",
       "      <td>1.001939e+05</td>\n",
       "      <td>1.493882e+05</td>\n",
       "      <td>199992.48</td>\n",
       "    </tr>\n",
       "    <tr>\n",
       "      <th>Exited</th>\n",
       "      <td>10000.0</td>\n",
       "      <td>2.037000e-01</td>\n",
       "      <td>0.402769</td>\n",
       "      <td>0.00</td>\n",
       "      <td>0.00</td>\n",
       "      <td>0.000000e+00</td>\n",
       "      <td>0.000000e+00</td>\n",
       "      <td>1.00</td>\n",
       "    </tr>\n",
       "  </tbody>\n",
       "</table>\n",
       "</div>"
      ],
      "text/plain": [
       "                   count          mean           std          min  \\\n",
       "RowNumber        10000.0  5.000500e+03   2886.895680         1.00   \n",
       "CustomerId       10000.0  1.569094e+07  71936.186123  15565701.00   \n",
       "CreditScore      10000.0  6.505288e+02     96.653299       350.00   \n",
       "Age              10000.0  3.892180e+01     10.487806        18.00   \n",
       "Tenure            9091.0  4.997690e+00      2.894723         0.00   \n",
       "Balance          10000.0  7.648589e+04  62397.405202         0.00   \n",
       "NumOfProducts    10000.0  1.530200e+00      0.581654         1.00   \n",
       "HasCrCard        10000.0  7.055000e-01      0.455840         0.00   \n",
       "IsActiveMember   10000.0  5.151000e-01      0.499797         0.00   \n",
       "EstimatedSalary  10000.0  1.000902e+05  57510.492818        11.58   \n",
       "Exited           10000.0  2.037000e-01      0.402769         0.00   \n",
       "\n",
       "                         25%           50%           75%          max  \n",
       "RowNumber            2500.75  5.000500e+03  7.500250e+03     10000.00  \n",
       "CustomerId       15628528.25  1.569074e+07  1.575323e+07  15815690.00  \n",
       "CreditScore           584.00  6.520000e+02  7.180000e+02       850.00  \n",
       "Age                    32.00  3.700000e+01  4.400000e+01        92.00  \n",
       "Tenure                  2.00  5.000000e+00  7.000000e+00        10.00  \n",
       "Balance                 0.00  9.719854e+04  1.276442e+05    250898.09  \n",
       "NumOfProducts           1.00  1.000000e+00  2.000000e+00         4.00  \n",
       "HasCrCard               0.00  1.000000e+00  1.000000e+00         1.00  \n",
       "IsActiveMember          0.00  1.000000e+00  1.000000e+00         1.00  \n",
       "EstimatedSalary     51002.11  1.001939e+05  1.493882e+05    199992.48  \n",
       "Exited                  0.00  0.000000e+00  0.000000e+00         1.00  "
      ]
     },
     "execution_count": 6,
     "metadata": {},
     "output_type": "execute_result"
    }
   ],
   "source": [
    "data.describe().T"
   ]
  },
  {
   "cell_type": "markdown",
   "metadata": {},
   "source": [
    "**Признаки:**\n",
    "- `RowNumber` — индекс строки в данных\n",
    "- `CustomerId` — уникальный идентификатор клиента\n",
    "- `Surname` — фамилия\n",
    "- `CreditScore` — кредитный рейтинг\n",
    "- `Geography` — страна проживания\n",
    "- `Gender` — пол\n",
    "- `Age` — возраст\n",
    "- `Tenure` — сколько лет человек является клиентом банка\n",
    "- `Balance` — баланс на счёте\n",
    "- `NumOfProducts` — количество продуктов банка, используемых клиентом\n",
    "- `HasCrCard` — наличие кредитной карты\n",
    "- `IsActiveMember` — активность клиента\n",
    "- `EstimatedSalary` — предполагаемая зарплата\n",
    "\n",
    "\n",
    "**Целевой признак:**\n",
    "- `Exited` — факт ухода клиента"
   ]
  },
  {
   "cell_type": "markdown",
   "metadata": {},
   "source": [
    "Посмотрим гистаграммы распределения частот по столбцам"
   ]
  },
  {
   "cell_type": "code",
   "execution_count": 7,
   "metadata": {},
   "outputs": [
    {
     "data": {
      "image/png": "[encoded data removed]",
      "text/plain": [
       "<Figure size 2000x2000 with 12 Axes>"
      ]
     },
     "metadata": {},
     "output_type": "display_data"
    }
   ],
   "source": [
    "data.hist(figsize=(20,20))\n",
    "plt.show()"
   ]
  },
  {
   "cell_type": "markdown",
   "metadata": {},
   "source": [
    "Проверим дубликаты в данных"
   ]
  },
  {
   "cell_type": "code",
   "execution_count": 8,
   "metadata": {},
   "outputs": [
    {
     "data": {
      "text/plain": [
       "0"
      ]
     },
     "execution_count": 8,
     "metadata": {},
     "output_type": "execute_result"
    }
   ],
   "source": [
    "data.duplicated().sum()"
   ]
  },
  {
   "cell_type": "markdown",
   "metadata": {},
   "source": [
    "Проверим значения в столбце CreditScore"
   ]
  },
  {
   "cell_type": "code",
   "execution_count": 9,
   "metadata": {},
   "outputs": [
    {
     "data": {
      "text/plain": [
       "850    233\n",
       "678     63\n",
       "655     54\n",
       "705     53\n",
       "667     53\n",
       "      ... \n",
       "404      1\n",
       "351      1\n",
       "365      1\n",
       "417      1\n",
       "419      1\n",
       "Name: CreditScore, Length: 460, dtype: int64"
      ]
     },
     "execution_count": 9,
     "metadata": {},
     "output_type": "execute_result"
    }
   ],
   "source": [
    "data['CreditScore'].value_counts()"
   ]
  },
  {
   "cell_type": "markdown",
   "metadata": {},
   "source": [
    "Проверим значения в столбце Geography "
   ]
  },
  {
   "cell_type": "code",
   "execution_count": 10,
   "metadata": {},
   "outputs": [
    {
     "data": {
      "text/plain": [
       "France     5014\n",
       "Germany    2509\n",
       "Spain      2477\n",
       "Name: Geography, dtype: int64"
      ]
     },
     "execution_count": 10,
     "metadata": {},
     "output_type": "execute_result"
    }
   ],
   "source": [
    "data['Geography'].value_counts()"
   ]
  },
  {
   "cell_type": "markdown",
   "metadata": {},
   "source": [
    "Проверим значения в столбце Gender"
   ]
  },
  {
   "cell_type": "code",
   "execution_count": 11,
   "metadata": {},
   "outputs": [
    {
     "data": {
      "text/plain": [
       "Male      5457\n",
       "Female    4543\n",
       "Name: Gender, dtype: int64"
      ]
     },
     "execution_count": 11,
     "metadata": {},
     "output_type": "execute_result"
    }
   ],
   "source": [
    "data['Gender'].value_counts()"
   ]
  },
  {
   "cell_type": "markdown",
   "metadata": {},
   "source": [
    "Проверим значения в столбце NumOfProducts"
   ]
  },
  {
   "cell_type": "code",
   "execution_count": 12,
   "metadata": {},
   "outputs": [
    {
     "data": {
      "text/plain": [
       "1    5084\n",
       "2    4590\n",
       "3     266\n",
       "4      60\n",
       "Name: NumOfProducts, dtype: int64"
      ]
     },
     "execution_count": 12,
     "metadata": {},
     "output_type": "execute_result"
    }
   ],
   "source": [
    "data['NumOfProducts'].value_counts()"
   ]
  },
  {
   "cell_type": "markdown",
   "metadata": {},
   "source": [
    "Проверим значения в столбце HasCrCard"
   ]
  },
  {
   "cell_type": "code",
   "execution_count": 13,
   "metadata": {},
   "outputs": [
    {
     "data": {
      "text/plain": [
       "1    7055\n",
       "0    2945\n",
       "Name: HasCrCard, dtype: int64"
      ]
     },
     "execution_count": 13,
     "metadata": {},
     "output_type": "execute_result"
    }
   ],
   "source": [
    "data['HasCrCard'].value_counts()"
   ]
  },
  {
   "cell_type": "markdown",
   "metadata": {},
   "source": [
    "Проверим значения в столбце IsActiveMember"
   ]
  },
  {
   "cell_type": "code",
   "execution_count": 14,
   "metadata": {},
   "outputs": [
    {
     "data": {
      "text/plain": [
       "1    5151\n",
       "0    4849\n",
       "Name: IsActiveMember, dtype: int64"
      ]
     },
     "execution_count": 14,
     "metadata": {},
     "output_type": "execute_result"
    }
   ],
   "source": [
    "data['IsActiveMember'].value_counts()"
   ]
  },
  {
   "cell_type": "markdown",
   "metadata": {},
   "source": [
    "Изучение значений в столбце Tenure"
   ]
  },
  {
   "cell_type": "code",
   "execution_count": 15,
   "metadata": {},
   "outputs": [
    {
     "data": {
      "text/plain": [
       "1.0     952\n",
       "2.0     950\n",
       "8.0     933\n",
       "3.0     928\n",
       "5.0     927\n",
       "7.0     925\n",
       "4.0     885\n",
       "9.0     882\n",
       "6.0     881\n",
       "10.0    446\n",
       "0.0     382\n",
       "Name: Tenure, dtype: int64"
      ]
     },
     "execution_count": 15,
     "metadata": {},
     "output_type": "execute_result"
    }
   ],
   "source": [
    "data['Tenure'].value_counts()"
   ]
  },
  {
   "cell_type": "markdown",
   "metadata": {},
   "source": [
    "Заполним пропуски в столбце Tenure и преобразуем его в целочисленный тип"
   ]
  },
  {
   "cell_type": "code",
   "execution_count": 16,
   "metadata": {},
   "outputs": [],
   "source": [
    "data = data.dropna()"
   ]
  },
  {
   "cell_type": "code",
   "execution_count": 17,
   "metadata": {},
   "outputs": [
    {
     "name": "stdout",
     "output_type": "stream",
     "text": [
      "<class 'pandas.core.frame.DataFrame'>\n",
      "Int64Index: 9091 entries, 0 to 9998\n",
      "Data columns (total 14 columns):\n",
      " #   Column           Non-Null Count  Dtype  \n",
      "---  ------           --------------  -----  \n",
      " 0   RowNumber        9091 non-null   int64  \n",
      " 1   CustomerId       9091 non-null   int64  \n",
      " 2   Surname          9091 non-null   object \n",
      " 3   CreditScore      9091 non-null   int64  \n",
      " 4   Geography        9091 non-null   object \n",
      " 5   Gender           9091 non-null   object \n",
      " 6   Age              9091 non-null   int64  \n",
      " 7   Tenure           9091 non-null   float64\n",
      " 8   Balance          9091 non-null   float64\n",
      " 9   NumOfProducts    9091 non-null   int64  \n",
      " 10  HasCrCard        9091 non-null   int64  \n",
      " 11  IsActiveMember   9091 non-null   int64  \n",
      " 12  EstimatedSalary  9091 non-null   float64\n",
      " 13  Exited           9091 non-null   int64  \n",
      "dtypes: float64(3), int64(8), object(3)\n",
      "memory usage: 1.0+ MB\n"
     ]
    }
   ],
   "source": [
    "data.info()"
   ]
  },
  {
   "cell_type": "markdown",
   "metadata": {},
   "source": [
    "Преобразуем категориальные признаки в численные с помощью техники OHE ,удалив столбцы, в которых для нашего исследования нет необходимости: RowNumber, CustomerId, Surname"
   ]
  },
  {
   "cell_type": "code",
   "execution_count": 18,
   "metadata": {
    "scrolled": true
   },
   "outputs": [
    {
     "name": "stdout",
     "output_type": "stream",
     "text": [
      "<class 'pandas.core.frame.DataFrame'>\n",
      "Int64Index: 9091 entries, 0 to 9998\n",
      "Data columns (total 12 columns):\n",
      " #   Column             Non-Null Count  Dtype  \n",
      "---  ------             --------------  -----  \n",
      " 0   CreditScore        9091 non-null   int64  \n",
      " 1   Age                9091 non-null   int64  \n",
      " 2   Tenure             9091 non-null   float64\n",
      " 3   Balance            9091 non-null   float64\n",
      " 4   NumOfProducts      9091 non-null   int64  \n",
      " 5   HasCrCard          9091 non-null   int64  \n",
      " 6   IsActiveMember     9091 non-null   int64  \n",
      " 7   EstimatedSalary    9091 non-null   float64\n",
      " 8   Exited             9091 non-null   int64  \n",
      " 9   Geography_Germany  9091 non-null   uint8  \n",
      " 10  Geography_Spain    9091 non-null   uint8  \n",
      " 11  Gender_Male        9091 non-null   uint8  \n",
      "dtypes: float64(3), int64(6), uint8(3)\n",
      "memory usage: 736.9 KB\n"
     ]
    }
   ],
   "source": [
    "data_ohe = data.drop(['RowNumber', 'CustomerId', 'Surname'], axis=1)\n",
    "data_ohe = pd.get_dummies(data_ohe, drop_first=True)\n",
    "data_ohe.info()"
   ]
  },
  {
   "cell_type": "markdown",
   "metadata": {},
   "source": [
    "Вывод:\n",
    "- Данные имеют 10000 строк и 14 столбцов\n",
    "- После удаления ненужных столбцов и избежания дамми ловушки осталось 12 стобцов\n",
    "- Были заменены пропуски в столбце Tenure"
   ]
  },
  {
   "cell_type": "markdown",
   "metadata": {},
   "source": [
    "## Исследование задачи"
   ]
  },
  {
   "cell_type": "markdown",
   "metadata": {},
   "source": [
    "\n",
    "![Текст с описанием картинки](https://dirclub.ru/wp-content/uploads/1000h615-copy-1000x560.jpg)"
   ]
  },
  {
   "cell_type": "markdown",
   "metadata": {},
   "source": [
    "После удаления столбцов, не несущих пользы для исследования и избежания дамми ловушки имеем"
   ]
  },
  {
   "cell_type": "code",
   "execution_count": 19,
   "metadata": {},
   "outputs": [
    {
     "data": {
      "text/plain": [
       "(9091, 12)"
      ]
     },
     "execution_count": 19,
     "metadata": {},
     "output_type": "execute_result"
    }
   ],
   "source": [
    "data_ohe.shape"
   ]
  },
  {
   "cell_type": "markdown",
   "metadata": {},
   "source": [
    "Разделим датасет на 3 выборки : тренировочную, валидационную и тестовую в соотношении 60 : 20 : 20."
   ]
  },
  {
   "cell_type": "code",
   "execution_count": 20,
   "metadata": {
    "scrolled": true
   },
   "outputs": [
    {
     "data": {
      "text/plain": [
       "(5454, 12)"
      ]
     },
     "metadata": {},
     "output_type": "display_data"
    },
    {
     "data": {
      "text/plain": [
       "(1819, 12)"
      ]
     },
     "metadata": {},
     "output_type": "display_data"
    },
    {
     "data": {
      "text/plain": [
       "(1818, 12)"
      ]
     },
     "metadata": {},
     "output_type": "display_data"
    }
   ],
   "source": [
    "data_80, data_test = train_test_split(data_ohe, test_size=.2, random_state=12345)\n",
    "data_train, data_valid = train_test_split(data_80, test_size=.25, random_state=12345)\n",
    "display(data_train.shape)\n",
    "display(data_test.shape)\n",
    "display(data_valid.shape)"
   ]
  },
  {
   "cell_type": "markdown",
   "metadata": {},
   "source": [
    "Создадим для каждой из выборок features и target переменные со соответствующими столбцами"
   ]
  },
  {
   "cell_type": "code",
   "execution_count": 21,
   "metadata": {},
   "outputs": [],
   "source": [
    "features_train = data_train.drop(['Exited'], axis=1)\n",
    "target_train = data_train['Exited']\n",
    "features_valid = data_valid.drop(['Exited'], axis=1)\n",
    "target_valid = data_valid['Exited']\n",
    "features_test = data_test.drop(['Exited'], axis=1)\n",
    "target_test = data_test['Exited']\n",
    "features_train_for_test = data_train.drop(['Exited'], axis=1)\n",
    "target_train_for_test = data_train['Exited']"
   ]
  },
  {
   "cell_type": "code",
   "execution_count": 22,
   "metadata": {},
   "outputs": [
    {
     "data": {
      "text/plain": [
       "(5454, 11)"
      ]
     },
     "execution_count": 22,
     "metadata": {},
     "output_type": "execute_result"
    }
   ],
   "source": [
    "features_train.shape"
   ]
  },
  {
   "cell_type": "code",
   "execution_count": 23,
   "metadata": {},
   "outputs": [],
   "source": [
    "scaler = StandardScaler()\n",
    "scaler.fit(features_train)\n",
    "\n",
    "pd.options.mode.chained_assignment = None\n",
    "features_train = scaler.transform(features_train)\n",
    "features_valid = pd.DataFrame(scaler.transform(features_valid))\n",
    "features_test = pd.DataFrame(scaler.transform(features_test))"
   ]
  },
  {
   "cell_type": "markdown",
   "metadata": {},
   "source": [
    "Посмотрим как разспределился целевой признак в общей выборке"
   ]
  },
  {
   "cell_type": "code",
   "execution_count": 24,
   "metadata": {},
   "outputs": [
    {
     "data": {
      "image/png": "[encoded data removed]",
      "text/plain": [
       "<Figure size 1600x600 with 1 Axes>"
      ]
     },
     "metadata": {},
     "output_type": "display_data"
    }
   ],
   "source": [
    "data['Exited'].value_counts().plot(kind='bar',figsize=(16,6),title='Пропорции целевого признака')\n",
    "plt.show()"
   ]
  },
  {
   "cell_type": "markdown",
   "metadata": {},
   "source": [
    "Видим дисбаланс в данных, один класс в 4 раза больше другого"
   ]
  },
  {
   "cell_type": "markdown",
   "metadata": {},
   "source": [
    "Изучим модели без учета дисбалланса"
   ]
  },
  {
   "cell_type": "markdown",
   "metadata": {},
   "source": [
    "**Логистическая регрессия**"
   ]
  },
  {
   "cell_type": "code",
   "execution_count": 25,
   "metadata": {},
   "outputs": [
    {
     "name": "stdout",
     "output_type": "stream",
     "text": [
      "F1: 0.3004115226337448\n",
      "AUC-ROC: 0.772461951858375\n"
     ]
    }
   ],
   "source": [
    "model_lr = LogisticRegression(random_state=12345, solver='liblinear')\n",
    "model_lr.fit(features_train, target_train)\n",
    "predictions_valid = model_lr.predict(features_valid)\n",
    "f1_score(target_valid, predictions_valid)\n",
    "\n",
    "\n",
    "probabilities_valid = model_lr.predict_proba(features_valid)\n",
    "probabilities_one_valid = probabilities_valid[:, 1]\n",
    "\n",
    "auc_roc = roc_auc_score(target_valid, probabilities_one_valid)\n",
    "\n",
    "print(\"F1:\",f1_score(target_valid, predictions_valid) )\n",
    "print(\"AUC-ROC:\",auc_roc)"
   ]
  },
  {
   "cell_type": "markdown",
   "metadata": {},
   "source": [
    "**Дерево решений**"
   ]
  },
  {
   "cell_type": "code",
   "execution_count": 26,
   "metadata": {},
   "outputs": [
    {
     "name": "stdout",
     "output_type": "stream",
     "text": [
      "Лучший результат 0.557427258805513\n",
      "Лучшая глубина 9\n",
      "AUC-ROC: 0.8062753089765011\n"
     ]
    },
    {
     "data": {
      "image/png": "[encoded data removed]",
      "text/plain": [
       "<Figure size 640x480 with 1 Axes>"
      ]
     },
     "metadata": {},
     "output_type": "display_data"
    }
   ],
   "source": [
    "best_result = 0\n",
    "depth = 0\n",
    "depths = []\n",
    "results = []\n",
    "\n",
    "for depth in range(1, 11):\n",
    "    model = DecisionTreeClassifier(random_state=12345, max_depth=depth)\n",
    "    model.fit(features_train, target_train)\n",
    "    predictions_valid = model.predict(features_valid)\n",
    "    result = f1_score(target_valid, predictions_valid)\n",
    "    depths.append(depth)\n",
    "    results.append(result)\n",
    "        \n",
    "    plt.plot(depths, results)\n",
    "    plt.title(\"Зависимость F1-меры от глубины дерева\")\n",
    "    plt.xlabel(\"Глубина дерева\")\n",
    "    plt.ylabel(\"F1-мера\")\n",
    "    plt.grid()\n",
    "    plt.show\n",
    "            \n",
    "    if result > best_result:\n",
    "        best_depth = depth\n",
    "        best_result = result\n",
    "\n",
    "\n",
    "        \n",
    "model = DecisionTreeClassifier(random_state=12345, max_depth=best_depth)\n",
    "model.fit(features_train, target_train)\n",
    "    \n",
    "probabilities_valid = model.predict_proba(features_valid)\n",
    "probabilities_one_valid = probabilities_valid[:, 1]\n",
    "\n",
    "auc_roc = roc_auc_score(target_valid, probabilities_one_valid)\n",
    "\n",
    "print('Лучший результат',best_result)\n",
    "print('Лучшая глубина',best_depth)\n",
    "print('AUC-ROC:', auc_roc)"
   ]
  },
  {
   "cell_type": "markdown",
   "metadata": {},
   "source": [
    "**Cлучайный лес**"
   ]
  },
  {
   "cell_type": "code",
   "execution_count": 27,
   "metadata": {},
   "outputs": [
    {
     "name": "stdout",
     "output_type": "stream",
     "text": [
      "Лучшая глубина 14\n",
      "Лучший результат 0.5570934256055363\n"
     ]
    }
   ],
   "source": [
    "best_result = 0\n",
    "for depth in range(1, 30, 1):\n",
    "    model = RandomForestClassifier(n_estimators=20, max_depth=depth, random_state=12345)\n",
    "    model.fit(features_train, target_train)\n",
    "    predictions_valid = model.predict(features_valid)\n",
    "    result = f1_score(target_valid, predictions_valid)\n",
    "    if result > best_result:\n",
    "        best_result = result\n",
    "        best_depth = depth\n",
    "\n",
    "\n",
    "print('Лучшая глубина',best_depth)\n",
    "print('Лучший результат',best_result)"
   ]
  },
  {
   "cell_type": "code",
   "execution_count": 28,
   "metadata": {},
   "outputs": [
    {
     "name": "stdout",
     "output_type": "stream",
     "text": [
      "Лучший результат 0.5570934256055363\n",
      "Лучшее количество деревьев 20\n",
      "AUC_ROC: 0.8218916060756597\n"
     ]
    },
    {
     "data": {
      "image/png": "[encoded data removed]",
      "text/plain": [
       "<Figure size 640x480 with 1 Axes>"
      ]
     },
     "metadata": {},
     "output_type": "display_data"
    }
   ],
   "source": [
    "best_model = None\n",
    "best_result = 0\n",
    "n_estimators = []\n",
    "results_rf = []\n",
    "for est in range(10, 201, 10):\n",
    "    model = RandomForestClassifier(random_state=12345, n_estimators=est, max_depth=14)\n",
    "    model.fit(features_train, target_train)\n",
    "    predictions_valid = model.predict(features_valid)\n",
    "    result = f1_score(target_valid, predictions_valid)\n",
    "    n_estimators.append(est)\n",
    "    results_rf.append(result)\n",
    "        \n",
    "    plt.plot(n_estimators, results_rf)\n",
    "    plt.title(\"Зависимость F1-меры от количества деревьев\")\n",
    "    plt.xlabel(\"Количество деревьев\")\n",
    "    plt.ylabel(\"F1-мера\")\n",
    "    plt.grid()\n",
    "    plt.show\n",
    "    \n",
    "    if result > best_result:\n",
    "        best_model = model\n",
    "        best_result = result\n",
    "        best_est = est\n",
    "\n",
    "        \n",
    "model = RandomForestClassifier(random_state=12345, n_estimators=best_est, max_depth=14)\n",
    "model.fit(features_train, target_train)\n",
    "\n",
    "probabilities_valid = model.predict_proba(features_valid)\n",
    "probabilities_one_valid = probabilities_valid[:, 1]\n",
    "\n",
    "auc_roc = roc_auc_score(target_valid, probabilities_one_valid)\n",
    "\n",
    "print('Лучший результат',best_result)\n",
    "print('Лучшее количество деревьев',best_est)\n",
    "print('AUC_ROC:', auc_roc)"
   ]
  },
  {
   "cell_type": "markdown",
   "metadata": {},
   "source": [
    "Вывод:\n",
    "- Были созданны 3 выборки: тренировочная, тестовая и валидационнная в соотношении 60 : 20 : 20\n",
    "- Целевые признаки и признаки для обучения были разделены\n",
    "- Балланс целевого класса 1 : 4\n",
    "- Ни одна из моделей не дотягивает до нужного уровня метрики"
   ]
  },
  {
   "cell_type": "markdown",
   "metadata": {},
   "source": [
    "## Борьба с дисбалансом"
   ]
  },
  {
   "cell_type": "markdown",
   "metadata": {},
   "source": [
    "![Текст с описанием картинки](https://krot.info/uploads/posts/2022-03/1646689110_50-krot-info-p-volnaya-borba-smeshnie-smeshnie-foto-52.jpg)"
   ]
  },
  {
   "cell_type": "markdown",
   "metadata": {},
   "source": [
    "Стандартизируем выборку при помощи структуры стандартизации данных StandardScaler"
   ]
  },
  {
   "cell_type": "code",
   "execution_count": 29,
   "metadata": {},
   "outputs": [],
   "source": [
    "#scaler = StandardScaler()\n",
    "#scaler.fit(features_train)\n",
    "\n",
    "#pd.options.mode.chained_assignment = None\n",
    "#features_train = scaler.transform(features_train)\n",
    "#features_valid = pd.DataFrame(scaler.transform(features_valid))\n",
    "#features_test = pd.DataFrame(scaler.transform(features_test))\n",
    "\n"
   ]
  },
  {
   "cell_type": "markdown",
   "metadata": {},
   "source": [
    "Создадим и обучим:\n",
    "- Логистическую регрессию\n",
    "- Дерево решений \n",
    "- Случайный лес\n",
    "\n",
    "В качестве баллансировки применим метод class_weight."
   ]
  },
  {
   "cell_type": "markdown",
   "metadata": {},
   "source": [
    "**Логистическая регрессия**"
   ]
  },
  {
   "cell_type": "code",
   "execution_count": 30,
   "metadata": {},
   "outputs": [
    {
     "data": {
      "text/plain": [
       "0.49458128078817737"
      ]
     },
     "execution_count": 30,
     "metadata": {},
     "output_type": "execute_result"
    }
   ],
   "source": [
    "model_lr = LogisticRegression(random_state=12345, solver='liblinear', class_weight='balanced')\n",
    "model_lr.fit(features_train, target_train)\n",
    "predictions_valid = model_lr.predict(features_valid)\n",
    "f1_score(target_valid, predictions_valid)"
   ]
  },
  {
   "cell_type": "markdown",
   "metadata": {},
   "source": [
    "**Дерево решений**"
   ]
  },
  {
   "cell_type": "code",
   "execution_count": 31,
   "metadata": {},
   "outputs": [
    {
     "name": "stdout",
     "output_type": "stream",
     "text": [
      "Лучший результат 0.5555555555555556\n",
      "Лучшая глубина 7\n",
      "AUC-ROC 0.8150158439838022\n"
     ]
    },
    {
     "data": {
      "image/png": "[encoded data removed]",
      "text/plain": [
       "<Figure size 640x480 with 1 Axes>"
      ]
     },
     "metadata": {},
     "output_type": "display_data"
    }
   ],
   "source": [
    "best_result = 0\n",
    "depth = 0\n",
    "depths = []\n",
    "results = []\n",
    "\n",
    "for depth in range(1, 11):\n",
    "    model = DecisionTreeClassifier(random_state=12345, max_depth=depth, class_weight='balanced')\n",
    "    model.fit(features_train, target_train)\n",
    "    predictions_valid = model.predict(features_valid)\n",
    "    result = f1_score(target_valid, predictions_valid)\n",
    "    depths.append(depth)\n",
    "    results.append(result)\n",
    "        \n",
    "    plt.plot(depths, results)\n",
    "    plt.title(\"Зависимость F1-меры от глубины дерева\")\n",
    "    plt.xlabel(\"Глубина дерева\")\n",
    "    plt.ylabel(\"F1-мера\")\n",
    "    plt.grid()\n",
    "    plt.show\n",
    "    \n",
    "    probabilities_valid = model.predict_proba(features_valid)\n",
    "    auc_roc = roc_auc_score(target_valid, probabilities_valid[:, 1])\n",
    "            \n",
    "    if result > best_result:\n",
    "        best_depth = depth\n",
    "        best_result = result\n",
    "        best_auc_roc = auc_roc\n",
    "\n",
    "\n",
    "print('Лучший результат',best_result)\n",
    "print('Лучшая глубина',best_depth)\n",
    "print('AUC-ROC', best_auc_roc)"
   ]
  },
  {
   "cell_type": "markdown",
   "metadata": {},
   "source": [
    "**Cлучайный лес**"
   ]
  },
  {
   "cell_type": "markdown",
   "metadata": {},
   "source": [
    "Сначала подберем глубину, при небольшом количестве деревьев, потом в цикле увеличим количество деревьев, обязательно добавим class_weight='balanced'"
   ]
  },
  {
   "cell_type": "code",
   "execution_count": 32,
   "metadata": {},
   "outputs": [
    {
     "name": "stdout",
     "output_type": "stream",
     "text": [
      "Лучшая глубина 8\n",
      "Лучший результат 0.5982478097622027\n"
     ]
    }
   ],
   "source": [
    "best_result = 0\n",
    "for depth in range(1, 30, 1):\n",
    "    model = RandomForestClassifier(n_estimators=20, max_depth=depth, random_state=12345,class_weight='balanced')\n",
    "    model.fit(features_train, target_train)\n",
    "    predictions_valid = model.predict(features_valid)\n",
    "    result = f1_score(target_valid, predictions_valid)\n",
    "    if result > best_result:\n",
    "        best_result = result\n",
    "        best_depth = depth\n",
    "\n",
    "\n",
    "print('Лучшая глубина',best_depth)\n",
    "print('Лучший результат',best_result)"
   ]
  },
  {
   "cell_type": "code",
   "execution_count": 33,
   "metadata": {},
   "outputs": [
    {
     "name": "stdout",
     "output_type": "stream",
     "text": [
      "Лучший результат 0.6078431372549019\n",
      "Лучшее количество деревьев 180\n"
     ]
    },
    {
     "data": {
      "image/png": "[encoded data removed]",
      "text/plain": [
       "<Figure size 640x480 with 1 Axes>"
      ]
     },
     "metadata": {},
     "output_type": "display_data"
    }
   ],
   "source": [
    "best_model = None\n",
    "best_result = 0\n",
    "n_estimators = []\n",
    "results_rf = []\n",
    "for est in range(10, 201, 10):\n",
    "    model = RandomForestClassifier(random_state=12345, n_estimators=est, max_depth=10, class_weight='balanced')\n",
    "    model.fit(features_train, target_train)\n",
    "    predictions_valid = model.predict(features_valid)\n",
    "    result = f1_score(target_valid, predictions_valid)\n",
    "    n_estimators.append(est)\n",
    "    results_rf.append(result)\n",
    "        \n",
    "    plt.plot(n_estimators, results_rf)\n",
    "    plt.title(\"Зависимость F1-меры от количества деревьев\")\n",
    "    plt.xlabel(\"Количество деревьев\")\n",
    "    plt.ylabel(\"F1-мера\")\n",
    "    plt.grid()\n",
    "    plt.show\n",
    "    \n",
    "    if result > best_result:\n",
    "        best_model = model\n",
    "        best_result = result\n",
    "        best_est = est\n",
    "\n",
    "\n",
    "print('Лучший результат',best_result)\n",
    "print('Лучшее количество деревьев',best_est)"
   ]
  },
  {
   "cell_type": "code",
   "execution_count": 34,
   "metadata": {
    "scrolled": true
   },
   "outputs": [
    {
     "data": {
      "text/plain": [
       "'Количество деревьев:'"
      ]
     },
     "metadata": {},
     "output_type": "display_data"
    },
    {
     "data": {
      "text/plain": [
       "180"
      ]
     },
     "metadata": {},
     "output_type": "display_data"
    },
    {
     "data": {
      "text/plain": [
       "'AUC-ROC'"
      ]
     },
     "metadata": {},
     "output_type": "display_data"
    },
    {
     "data": {
      "text/plain": [
       "0.8491265110117571"
      ]
     },
     "metadata": {},
     "output_type": "display_data"
    },
    {
     "data": {
      "text/plain": [
       "'F1-мера'"
      ]
     },
     "metadata": {},
     "output_type": "display_data"
    },
    {
     "data": {
      "text/plain": [
       "0.6078431372549019"
      ]
     },
     "metadata": {},
     "output_type": "display_data"
    }
   ],
   "source": [
    "best_model = None\n",
    "best_f1 = 0\n",
    "best_auc_roc = 0\n",
    "\n",
    "for est in range(10, 201, 10):\n",
    "    model = RandomForestClassifier(random_state=12345, n_estimators=est, max_depth=10, class_weight='balanced')\n",
    "    model.fit(features_train, target_train)\n",
    "    predictions_valid = model.predict(features_valid)\n",
    "    f1 = f1_score(target_valid, predictions_valid)\n",
    "    probabilities_valid = model.predict_proba(features_valid)\n",
    "    auc_roc = roc_auc_score(target_valid, probabilities_valid[:, 1])\n",
    "    if f1 > best_f1:\n",
    "        best_model = model\n",
    "        best_f1 = f1\n",
    "        best_est = est\n",
    "        best_auc_roc = auc_roc\n",
    "\n",
    "display('Количество деревьев:', best_est)\n",
    "display('AUC-ROC', best_auc_roc)\n",
    "display('F1-мера', best_f1)"
   ]
  },
  {
   "cell_type": "markdown",
   "metadata": {},
   "source": [
    "Построим график AUC-ROC"
   ]
  },
  {
   "cell_type": "code",
   "execution_count": 35,
   "metadata": {},
   "outputs": [],
   "source": [
    "model_tree=DecisionTreeClassifier(class_weight='balanced',max_depth=6,random_state=1234).fit(features_train,target_train)\n",
    "model_forest=RandomForestClassifier(class_weight='balanced',max_depth=10,n_estimators=90,random_state=1234).fit(features_train,target_train)\n",
    "model_logistic=LogisticRegression(class_weight='balanced',solver='liblinear').fit(features_train,target_train)"
   ]
  },
  {
   "cell_type": "code",
   "execution_count": 36,
   "metadata": {},
   "outputs": [],
   "source": [
    "probabilities_tree=model_tree.predict_proba(features_valid)\n",
    "probabilities_one_valid_tree=probabilities_tree[:,1]\n",
    "fpr_tree,tpr_tree,thresholds=roc_curve(target_valid,probabilities_one_valid_tree)\n",
    "\n",
    "auc_roc_tree=roc_auc_score(target_valid,probabilities_one_valid_tree)\n",
    "\n",
    "probabilities_forest=model_forest.predict_proba(features_valid)\n",
    "probabilities_one_valid_forest=probabilities_forest[:,1]\n",
    "fpr_forest,tpr_forest,thresholds=roc_curve(target_valid,probabilities_one_valid_forest)\n",
    "\n",
    "auc_roc_forest=roc_auc_score(target_valid,probabilities_one_valid_forest)\n",
    "\n",
    "probabilities_reg=model_logistic.predict_proba(features_valid)\n",
    "probabilities_one_valid_reg=probabilities_reg[:,1]\n",
    "fpr_log,tpr_log,thresholds=roc_curve(target_valid,probabilities_one_valid_reg)\n",
    "\n",
    "auc_roc_reg=roc_auc_score(target_valid,probabilities_one_valid_reg)"
   ]
  },
  {
   "cell_type": "code",
   "execution_count": 37,
   "metadata": {},
   "outputs": [
    {
     "data": {
      "text/plain": [
       "<Figure size 640x480 with 0 Axes>"
      ]
     },
     "metadata": {},
     "output_type": "display_data"
    },
    {
     "data": {
      "image/png": "[encoded data removed]",
      "text/plain": [
       "<Figure size 1000x700 with 1 Axes>"
      ]
     },
     "metadata": {},
     "output_type": "display_data"
    }
   ],
   "source": [
    "plt.figure()\n",
    "\n",
    "plt.figure(figsize=(10,7))\n",
    "plt.plot([0, 1], [0, 1], linestyle='--')\n",
    "plt.xlim([0.0, 1.0])\n",
    "plt.ylim([0.0, 1.0])\n",
    "plt.plot(fpr_log,tpr_log)\n",
    "plt.plot(fpr_tree,tpr_tree)\n",
    "plt.plot(fpr_forest,tpr_forest)\n",
    "plt.xlabel('False Positive Rate')\n",
    "plt.ylabel('True Positive Rate')\n",
    "plt.title('ROC-кривая')\n",
    "plt.legend(('Случайная модель','Случайный лес','Логистическая регрессия','Дерево решения'),\n",
    "           loc= 'upper left') \n",
    "plt.show()"
   ]
  },
  {
   "cell_type": "markdown",
   "metadata": {},
   "source": [
    "Теперь потестируем метод upsampling."
   ]
  },
  {
   "cell_type": "code",
   "execution_count": 38,
   "metadata": {},
   "outputs": [
    {
     "data": {
      "text/plain": [
       "(5454, 12)"
      ]
     },
     "metadata": {},
     "output_type": "display_data"
    },
    {
     "data": {
      "text/plain": [
       "(1819, 12)"
      ]
     },
     "metadata": {},
     "output_type": "display_data"
    },
    {
     "data": {
      "text/plain": [
       "(1818, 12)"
      ]
     },
     "metadata": {},
     "output_type": "display_data"
    }
   ],
   "source": [
    "data_80, data_test = train_test_split(data_ohe, test_size=.2, random_state=12345)\n",
    "data_train, data_valid = train_test_split(data_80, test_size=.25, random_state=12345)\n",
    "display(data_train.shape)\n",
    "display(data_test.shape)\n",
    "display(data_valid.shape)"
   ]
  },
  {
   "cell_type": "code",
   "execution_count": 39,
   "metadata": {},
   "outputs": [],
   "source": [
    "features_train = data_train.drop(['Exited'], axis=1)\n",
    "target_train = data_train['Exited']\n",
    "features_valid = data_valid.drop(['Exited'], axis=1)\n",
    "target_valid = data_valid['Exited']\n",
    "features_test = data_test.drop(['Exited'], axis=1)\n",
    "target_test = data_test['Exited']\n",
    "features_train_for_test = data_train.drop(['Exited'], axis=1)\n",
    "target_train_for_test = data_train['Exited']"
   ]
  },
  {
   "cell_type": "code",
   "execution_count": 41,
   "metadata": {},
   "outputs": [],
   "source": [
    "def upsample(features, target, repeat):\n",
    "    features_zeros = features[target == 0]\n",
    "    features_ones = features[target == 1]\n",
    "    target_zeros = target[target == 0]\n",
    "    target_ones = target[target == 1]\n",
    "\n",
    "    features_upsampled = pd.concat([features_zeros] + [features_ones] * repeat)\n",
    "    target_upsampled = pd.concat([target_zeros] + [target_ones] * repeat)\n",
    "    \n",
    "    features_upsampled, target_upsampled = shuffle(\n",
    "        features_upsampled, target_upsampled, random_state=12345)\n",
    "    \n",
    "    return features_upsampled, target_upsampled\n",
    "\n",
    "features_balance_up,target_balance_up=upsample(features_train,target_train,4)"
   ]
  },
  {
   "cell_type": "markdown",
   "metadata": {},
   "source": [
    "Протестируем модели на увеличенных выборках"
   ]
  },
  {
   "cell_type": "markdown",
   "metadata": {},
   "source": [
    "Логистическая регрессия"
   ]
  },
  {
   "cell_type": "code",
   "execution_count": 42,
   "metadata": {},
   "outputs": [
    {
     "name": "stdout",
     "output_type": "stream",
     "text": [
      "F1: 0.45272727272727276\n"
     ]
    }
   ],
   "source": [
    "model_logistic=LogisticRegression(class_weight='balanced',solver='liblinear').fit(features_balance_up,target_balance_up)\n",
    "prediction=model_logistic.predict(features_valid)\n",
    "print('F1:',f1_score(target_valid,prediction))"
   ]
  },
  {
   "cell_type": "markdown",
   "metadata": {},
   "source": [
    "Дерево решений"
   ]
  },
  {
   "cell_type": "code",
   "execution_count": 43,
   "metadata": {},
   "outputs": [
    {
     "name": "stdout",
     "output_type": "stream",
     "text": [
      "max_depth: 1 F1: 0.47692307692307695\n",
      "max_depth: 2 F1: 0.5010706638115632\n",
      "max_depth: 3 F1: 0.5156950672645739\n",
      "max_depth: 4 F1: 0.4861227922624054\n",
      "max_depth: 5 F1: 0.535675082327113\n",
      "max_depth: 6 F1: 0.5533262935586061\n",
      "max_depth: 7 F1: 0.5555555555555556\n",
      "max_depth: 8 F1: 0.5508196721311476\n",
      "max_depth: 9 F1: 0.5415730337078651\n",
      "max_depth: 10 F1: 0.5398907103825137\n",
      "max_depth: 11 F1: 0.5246981339187706\n",
      "max_depth: 12 F1: 0.5028058361391694\n",
      "max_depth: 13 F1: 0.48739495798319327\n",
      "max_depth: 14 F1: 0.4856787048567871\n",
      "max_depth: 15 F1: 0.5076923076923077\n",
      "max_depth: 16 F1: 0.4910025706940874\n",
      "max_depth: 17 F1: 0.48118279569892475\n",
      "max_depth: 18 F1: 0.48721399730820997\n",
      "max_depth: 19 F1: 0.48721399730820997\n"
     ]
    }
   ],
   "source": [
    "for depth in range(1,20,1):\n",
    "    model_tree=DecisionTreeClassifier(class_weight='balanced',max_depth=depth,random_state=1234).fit(features_balance_up,target_balance_up)\n",
    "  \n",
    "    prediction=model_tree.predict(features_valid)\n",
    "    print('max_depth:',depth,'F1:',f1_score(target_valid,prediction))"
   ]
  },
  {
   "cell_type": "markdown",
   "metadata": {},
   "source": [
    "Случайный лес"
   ]
  },
  {
   "cell_type": "code",
   "execution_count": 44,
   "metadata": {},
   "outputs": [
    {
     "name": "stdout",
     "output_type": "stream",
     "text": [
      "max_depth: 1 F1: 0.5037037037037035\n",
      "max_depth: 2 F1: 0.5344036697247706\n",
      "max_depth: 3 F1: 0.5588914549653579\n",
      "max_depth: 4 F1: 0.5659090909090909\n",
      "max_depth: 5 F1: 0.5876887340301974\n",
      "max_depth: 6 F1: 0.5826397146254458\n",
      "max_depth: 7 F1: 0.5862884160756501\n",
      "max_depth: 8 F1: 0.5976470588235294\n",
      "max_depth: 9 F1: 0.5870889159561511\n",
      "max_depth: 10 F1: 0.5954773869346733\n",
      "max_depth: 11 F1: 0.5886990801576872\n",
      "max_depth: 12 F1: 0.5798657718120805\n",
      "max_depth: 13 F1: 0.5825242718446602\n",
      "max_depth: 14 F1: 0.5902578796561604\n",
      "max_depth: 15 F1: 0.5859491778774291\n",
      "max_depth: 16 F1: 0.5627836611195158\n",
      "max_depth: 17 F1: 0.5779122541603632\n",
      "max_depth: 18 F1: 0.5788667687595713\n",
      "max_depth: 19 F1: 0.5797546012269938\n"
     ]
    }
   ],
   "source": [
    "for max_depth in range(1,20,1):\n",
    "    model_forest=RandomForestClassifier(class_weight='balanced',max_depth=max_depth,n_estimators=50,random_state=1234).fit(features_balance_up,target_balance_up)\n",
    "    prediction=model_forest.predict(features_valid)\n",
    "    print('max_depth:',max_depth,'F1:',f1_score(target_valid,prediction))\n",
    "    "
   ]
  },
  {
   "cell_type": "code",
   "execution_count": 45,
   "metadata": {},
   "outputs": [
    {
     "name": "stdout",
     "output_type": "stream",
     "text": [
      "estim 1 F1: 0.4792626728110599\n",
      "estim 2 F1: 0.45962732919254656\n",
      "estim 3 F1: 0.5057471264367815\n",
      "estim 4 F1: 0.49704142011834324\n",
      "estim 5 F1: 0.5186206896551725\n",
      "estim 6 F1: 0.5266362252663622\n",
      "estim 7 F1: 0.5327635327635327\n",
      "estim 8 F1: 0.5379939209726444\n",
      "estim 9 F1: 0.5465116279069766\n",
      "estim 10 F1: 0.5435114503816794\n",
      "estim 11 F1: 0.5555555555555556\n",
      "estim 12 F1: 0.5471124620060791\n",
      "estim 13 F1: 0.5637982195845698\n",
      "estim 14 F1: 0.5547226386806597\n",
      "estim 15 F1: 0.5534407027818448\n",
      "estim 16 F1: 0.568452380952381\n",
      "estim 17 F1: 0.5642540620384048\n",
      "estim 18 F1: 0.56973293768546\n",
      "estim 19 F1: 0.5668135095447872\n",
      "estim 20 F1: 0.5705614567526557\n",
      "estim 21 F1: 0.5654761904761906\n",
      "estim 22 F1: 0.5701357466063348\n",
      "estim 23 F1: 0.5608308605341247\n",
      "estim 24 F1: 0.5589123867069486\n",
      "estim 25 F1: 0.5663189269746646\n",
      "estim 26 F1: 0.5615615615615616\n",
      "estim 27 F1: 0.568452380952381\n",
      "estim 28 F1: 0.5645645645645646\n",
      "estim 29 F1: 0.5752212389380531\n",
      "estim 30 F1: 0.5688622754491018\n",
      "estim 31 F1: 0.5667166416791605\n",
      "estim 32 F1: 0.5680119581464872\n",
      "estim 33 F1: 0.5705705705705706\n",
      "estim 34 F1: 0.5684210526315789\n",
      "estim 35 F1: 0.5602409638554217\n",
      "estim 36 F1: 0.5597579425113465\n",
      "estim 37 F1: 0.5627836611195158\n",
      "estim 38 F1: 0.5666666666666667\n",
      "estim 39 F1: 0.564102564102564\n",
      "estim 40 F1: 0.5688622754491018\n",
      "estim 41 F1: 0.5701357466063348\n",
      "estim 42 F1: 0.5714285714285715\n",
      "estim 43 F1: 0.5731523378582203\n",
      "estim 44 F1: 0.5718608169440241\n",
      "estim 45 F1: 0.5710014947683109\n",
      "estim 46 F1: 0.5705705705705706\n",
      "estim 47 F1: 0.5710014947683109\n",
      "estim 48 F1: 0.5597579425113465\n",
      "estim 49 F1: 0.5684210526315789\n",
      "estim 50 F1: 0.5627836611195158\n",
      "estim 51 F1: 0.5662650602409639\n",
      "estim 52 F1: 0.564102564102564\n",
      "estim 53 F1: 0.5684210526315789\n",
      "estim 54 F1: 0.5632530120481928\n",
      "estim 55 F1: 0.5645645645645646\n",
      "estim 56 F1: 0.5575757575757576\n",
      "estim 57 F1: 0.5688350983358548\n",
      "estim 58 F1: 0.5636363636363637\n",
      "estim 59 F1: 0.5692541856925419\n",
      "estim 60 F1: 0.5701219512195121\n",
      "estim 61 F1: 0.5718608169440241\n",
      "estim 62 F1: 0.5692541856925419\n",
      "estim 63 F1: 0.5727272727272728\n",
      "estim 64 F1: 0.5722983257229832\n",
      "estim 65 F1: 0.5736196319018406\n",
      "estim 66 F1: 0.5696784073506892\n",
      "estim 67 F1: 0.5740458015267176\n",
      "estim 68 F1: 0.5714285714285714\n",
      "estim 69 F1: 0.5779816513761469\n",
      "estim 70 F1: 0.5718654434250764\n",
      "estim 71 F1: 0.5683563748079877\n",
      "estim 72 F1: 0.5652841781874041\n",
      "estim 73 F1: 0.5705521472392637\n",
      "estim 74 F1: 0.5679012345679012\n",
      "estim 75 F1: 0.5714285714285714\n",
      "estim 76 F1: 0.5687789799072643\n",
      "estim 77 F1: 0.5731895223420647\n",
      "estim 78 F1: 0.5687789799072643\n",
      "estim 79 F1: 0.5714285714285714\n",
      "estim 80 F1: 0.5705521472392637\n",
      "estim 81 F1: 0.5749235474006117\n",
      "estim 82 F1: 0.5705521472392637\n",
      "estim 83 F1: 0.5792682926829268\n",
      "estim 84 F1: 0.5727411944869831\n",
      "estim 85 F1: 0.5770992366412214\n",
      "estim 86 F1: 0.5749235474006117\n",
      "estim 87 F1: 0.5796661608497723\n",
      "estim 88 F1: 0.5792682926829268\n",
      "estim 89 F1: 0.5796661608497723\n",
      "estim 90 F1: 0.5792682926829268\n",
      "estim 91 F1: 0.5775075987841946\n",
      "estim 92 F1: 0.5814307458143075\n",
      "estim 93 F1: 0.5792682926829268\n",
      "estim 94 F1: 0.5823170731707317\n",
      "estim 95 F1: 0.5840978593272171\n",
      "estim 96 F1: 0.5844748858447489\n",
      "estim 97 F1: 0.5827010622154779\n",
      "estim 98 F1: 0.5844748858447489\n",
      "estim 99 F1: 0.5823170731707317\n",
      "estim 100 F1: 0.5911179173047473\n"
     ]
    }
   ],
   "source": [
    "for estim in range(1,101,1):\n",
    "    model_forest=RandomForestClassifier(class_weight='balanced',max_depth=16,n_estimators=estim,random_state=1234).fit(features_balance_up,target_balance_up)\n",
    "    prediction=model_forest.predict(features_valid)\n",
    "    print('estim',estim,'F1:',f1_score(target_valid,prediction))\n",
    "    "
   ]
  },
  {
   "cell_type": "markdown",
   "metadata": {},
   "source": [
    "Вывод:\n",
    "- Балланс целевого класса 1 : 4\n",
    "- Был применен метод стандартизации данных к обучающим выборкам\n",
    "- Для баллансировки были применены методы class_weight = 'balanced' и upsample\n",
    "- Лучше всего себя показал случайный лес с параметрами глубина - 10 и количество деревьев 90\n",
    "    - На валидационной выборке он показал:\n",
    "            - AUC-ROC = 0.8459407788766954\n",
    "            - F1-мера = 0.61212976022567\n",
    "- Все меры стали лучше после баллансировки классов\n",
    "- Лучшие результаты показали балансировка после метода class_weight"
   ]
  },
  {
   "cell_type": "markdown",
   "metadata": {},
   "source": [
    "## Тестирование модели"
   ]
  },
  {
   "cell_type": "markdown",
   "metadata": {},
   "source": [
    "\n",
    "![Текст с описанием картинки](https://sun9-north.userapi.com/sun9-78/s/v1/if1/26VBlJ_wo96tqINs5-ZMikXJapJR5Bsa07nFnW3rEmcJ6DbKG0JtsB5Ykaq3OIaWIoXsYsEb.jpg?size=800x739&quality=96&type=album\n",
    ")"
   ]
  },
  {
   "cell_type": "markdown",
   "metadata": {},
   "source": [
    "Протестируем модель на тестовой выборке"
   ]
  },
  {
   "cell_type": "markdown",
   "metadata": {},
   "source": [
    "Без применения class_weight"
   ]
  },
  {
   "cell_type": "code",
   "execution_count": 46,
   "metadata": {},
   "outputs": [
    {
     "data": {
      "text/plain": [
       "'AUC-ROC'"
      ]
     },
     "metadata": {},
     "output_type": "display_data"
    },
    {
     "data": {
      "text/plain": [
       "0.8680441080272873"
      ]
     },
     "metadata": {},
     "output_type": "display_data"
    },
    {
     "data": {
      "text/plain": [
       "'F1-мера'"
      ]
     },
     "metadata": {},
     "output_type": "display_data"
    },
    {
     "data": {
      "text/plain": [
       "0.5335753176043557"
      ]
     },
     "metadata": {},
     "output_type": "display_data"
    }
   ],
   "source": [
    "model = RandomForestClassifier(random_state=12345, n_estimators=90, max_depth=100)\n",
    "model.fit(features_train, target_train)\n",
    "predictions_test = model.predict(features_test)\n",
    "\n",
    "probabilities_test = model.predict_proba(features_test)\n",
    "\n",
    "display('AUC-ROC', roc_auc_score(target_test, probabilities_test[:, 1]))\n",
    "display('F1-мера', f1_score(target_test, predictions_test))"
   ]
  },
  {
   "cell_type": "markdown",
   "metadata": {},
   "source": [
    "Сбалансированная с помощью class_weight"
   ]
  },
  {
   "cell_type": "code",
   "execution_count": 48,
   "metadata": {},
   "outputs": [
    {
     "data": {
      "text/plain": [
       "'AUC-ROC'"
      ]
     },
     "metadata": {},
     "output_type": "display_data"
    },
    {
     "data": {
      "text/plain": [
       "0.8559555181758715"
      ]
     },
     "metadata": {},
     "output_type": "display_data"
    },
    {
     "data": {
      "text/plain": [
       "'F1-мера'"
      ]
     },
     "metadata": {},
     "output_type": "display_data"
    },
    {
     "data": {
      "text/plain": [
       "0.5928057553956835"
      ]
     },
     "metadata": {},
     "output_type": "display_data"
    }
   ],
   "source": [
    "model = RandomForestClassifier(random_state=12345, n_estimators=100, max_depth=9, class_weight='balanced')\n",
    "model.fit(features_train, target_train)\n",
    "predictions_test = model.predict(features_test)\n",
    "\n",
    "probabilities_test = model.predict_proba(features_test)\n",
    "\n",
    "display('AUC-ROC', roc_auc_score(target_test, probabilities_test[:, 1]))\n",
    "display('F1-мера', f1_score(target_test, predictions_test))"
   ]
  },
  {
   "cell_type": "markdown",
   "metadata": {},
   "source": [
    "Вывод:\n",
    "- Были проверены 3 модели: логистическая регрессия, дерево решений и случайный лес\n",
    "- Лучше всего себя показал случайный лес с глубиной 8 и количпеством деревьев 160\n",
    "- На тестовой выборке случайный лес показал:\n",
    "    - AUC-ROC равный 0.8569049621530698\n",
    "    - F1-мера равная 0.6013793103448275\n",
    "    \n",
    "- Данные показатели удовлетворяют условиям задачи"
   ]
  },
  {
   "cell_type": "markdown",
   "metadata": {},
   "source": [
    "## Чек-лист готовности проекта"
   ]
  },
  {
   "cell_type": "markdown",
   "metadata": {},
   "source": [
    "Поставьте 'x' в выполненных пунктах. Далее нажмите Shift+Enter."
   ]
  },
  {
   "cell_type": "markdown",
   "metadata": {},
   "source": [
    "- [x]  Jupyter Notebook открыт\n",
    "- [x]  Весь код выполняется без ошибок\n",
    "- [x]  Ячейки с кодом расположены в порядке исполнения\n",
    "- [x]  Выполнен шаг 1: данные подготовлены\n",
    "- [x]  Выполнен шаг 2: задача исследована\n",
    "    - [x]  Исследован баланс классов\n",
    "    - [x]  Изучены модели без учёта дисбаланса\n",
    "    - [x]  Написаны выводы по результатам исследования\n",
    "- [ ]  Выполнен шаг 3: учтён дисбаланс\n",
    "    - [x]  Применено несколько способов борьбы с дисбалансом\n",
    "    - [x]  Написаны выводы по результатам исследования\n",
    "- [x]  Выполнен шаг 4: проведено тестирование\n",
    "- [x]  Удалось достичь *F1*-меры не менее 0.59\n",
    "- [x]  Исследована метрика *AUC-ROC*"
   ]
  },
  {
   "cell_type": "markdown",
   "metadata": {},
   "source": [
    "Общий вывод:\n",
    "\n",
    "- Данные имеют 10000 строк и 14 столбцов\n",
    "- После удаления ненужных столбцов и избежания дамми ловушки осталось 12 стобцов\n",
    "- Были заменены пропуски в столбце Tenure\n",
    "- Были созданны 3 выборки: тренировочная, тестовая и валидационнная в соотношении 60 : 20 : 20\n",
    "- Целевые признаки и признаки для обучения были разделены\n",
    "- Балланс целевого класса 1 : 4\n",
    "- Был применен метод стандартизации данных к обучающим выборкам\n",
    "- Были проверены 3 модели: логистическая регрессия, дерево решений и случайный лес\n",
    "\n",
    "- Лучше всего себя показал случайный лес с глубиной 8 и количпеством деревьев 160\n",
    "\n",
    "- На тестовой выборке случайный лес показал:\n",
    "\n",
    "    - AUC-ROC равный 0.8689477437614546\n",
    "    - F1-мера равная 0.6492942453854507\n",
    "- Данные показатели удовлетворяют условиям задачи"
   ]
  }
 ],
 "metadata": {
  "ExecuteTimeLog": [
   {
    "duration": 1535,
    "start_time": "2023-02-03T09:43:48.750Z"
   },
   {
    "duration": 195,
    "start_time": "2023-02-03T10:03:48.885Z"
   },
   {
    "duration": 72,
    "start_time": "2023-02-03T10:04:03.648Z"
   },
   {
    "duration": 6,
    "start_time": "2023-02-03T10:04:11.369Z"
   },
   {
    "duration": 8,
    "start_time": "2023-02-03T10:04:14.455Z"
   },
   {
    "duration": 3,
    "start_time": "2023-02-03T10:04:16.481Z"
   },
   {
    "duration": 14,
    "start_time": "2023-02-03T10:04:27.076Z"
   },
   {
    "duration": 13,
    "start_time": "2023-02-03T10:04:39.050Z"
   },
   {
    "duration": 9,
    "start_time": "2023-02-03T10:05:02.707Z"
   },
   {
    "duration": 35,
    "start_time": "2023-02-03T10:05:06.013Z"
   },
   {
    "duration": 35,
    "start_time": "2023-02-03T10:05:08.697Z"
   },
   {
    "duration": 1028,
    "start_time": "2023-02-03T10:05:45.542Z"
   },
   {
    "duration": 1084,
    "start_time": "2023-02-03T10:05:50.457Z"
   },
   {
    "duration": 1358,
    "start_time": "2023-02-03T10:05:56.591Z"
   },
   {
    "duration": 10,
    "start_time": "2023-02-03T10:06:54.511Z"
   },
   {
    "duration": 1359,
    "start_time": "2023-02-03T10:34:45.079Z"
   },
   {
    "duration": 46,
    "start_time": "2023-02-03T21:14:18.845Z"
   },
   {
    "duration": 6,
    "start_time": "2023-02-03T21:14:21.552Z"
   },
   {
    "duration": 5,
    "start_time": "2023-02-03T21:14:23.864Z"
   },
   {
    "duration": 1495,
    "start_time": "2023-02-03T21:14:25.678Z"
   },
   {
    "duration": 176,
    "start_time": "2023-02-03T21:14:27.981Z"
   },
   {
    "duration": 5,
    "start_time": "2023-02-03T21:14:28.854Z"
   },
   {
    "duration": 16,
    "start_time": "2023-02-03T21:14:30.496Z"
   },
   {
    "duration": 13,
    "start_time": "2023-02-03T21:14:45.827Z"
   },
   {
    "duration": 44,
    "start_time": "2023-02-03T21:15:11.167Z"
   },
   {
    "duration": 11,
    "start_time": "2023-02-03T21:22:38.490Z"
   },
   {
    "duration": 71,
    "start_time": "2023-02-03T21:33:43.051Z"
   },
   {
    "duration": 6,
    "start_time": "2023-02-03T21:33:55.174Z"
   },
   {
    "duration": 744,
    "start_time": "2023-02-03T21:34:15.996Z"
   },
   {
    "duration": 6,
    "start_time": "2023-02-03T21:34:23.702Z"
   },
   {
    "duration": 7,
    "start_time": "2023-02-03T21:34:53.862Z"
   },
   {
    "duration": 6,
    "start_time": "2023-02-03T21:34:55.162Z"
   },
   {
    "duration": 5,
    "start_time": "2023-02-03T21:35:57.105Z"
   },
   {
    "duration": 6,
    "start_time": "2023-02-03T21:36:42.474Z"
   },
   {
    "duration": 6,
    "start_time": "2023-02-03T21:37:01.116Z"
   },
   {
    "duration": 6,
    "start_time": "2023-02-03T21:37:27.568Z"
   },
   {
    "duration": 7,
    "start_time": "2023-02-03T21:38:25.202Z"
   },
   {
    "duration": 3,
    "start_time": "2023-02-03T21:39:30.184Z"
   },
   {
    "duration": 14,
    "start_time": "2023-02-03T21:39:43.083Z"
   },
   {
    "duration": 9,
    "start_time": "2023-02-03T21:41:03.383Z"
   },
   {
    "duration": 11,
    "start_time": "2023-02-03T21:41:18.314Z"
   },
   {
    "duration": 23,
    "start_time": "2023-02-03T21:41:26.345Z"
   },
   {
    "duration": 4,
    "start_time": "2023-02-03T21:48:42.436Z"
   },
   {
    "duration": 14,
    "start_time": "2023-02-03T21:48:43.340Z"
   },
   {
    "duration": 19,
    "start_time": "2023-02-03T21:48:47.136Z"
   },
   {
    "duration": 4,
    "start_time": "2023-02-03T22:26:30.656Z"
   },
   {
    "duration": 17,
    "start_time": "2023-02-03T22:26:40.858Z"
   },
   {
    "duration": 4,
    "start_time": "2023-02-03T22:26:49.183Z"
   },
   {
    "duration": 11,
    "start_time": "2023-02-03T22:32:22.334Z"
   },
   {
    "duration": 12,
    "start_time": "2023-02-03T22:33:57.218Z"
   },
   {
    "duration": 11,
    "start_time": "2023-02-03T22:34:43.160Z"
   },
   {
    "duration": 9,
    "start_time": "2023-02-03T22:38:06.950Z"
   },
   {
    "duration": 3,
    "start_time": "2023-02-03T22:38:47.491Z"
   },
   {
    "duration": 9,
    "start_time": "2023-02-03T22:39:15.996Z"
   },
   {
    "duration": 3,
    "start_time": "2023-02-03T22:39:38.820Z"
   },
   {
    "duration": 14,
    "start_time": "2023-02-03T22:39:44.859Z"
   },
   {
    "duration": 143,
    "start_time": "2023-02-03T22:45:04.539Z"
   },
   {
    "duration": 120,
    "start_time": "2023-02-03T22:45:57.229Z"
   },
   {
    "duration": 138,
    "start_time": "2023-02-03T22:46:29.677Z"
   },
   {
    "duration": 134,
    "start_time": "2023-02-03T22:46:35.674Z"
   },
   {
    "duration": 185,
    "start_time": "2023-02-03T22:46:49.829Z"
   },
   {
    "duration": 11,
    "start_time": "2023-02-03T22:51:38.115Z"
   },
   {
    "duration": 14,
    "start_time": "2023-02-03T22:54:45.205Z"
   },
   {
    "duration": 11,
    "start_time": "2023-02-03T22:55:41.846Z"
   },
   {
    "duration": 47,
    "start_time": "2023-02-03T22:58:06.602Z"
   },
   {
    "duration": 4,
    "start_time": "2023-02-03T22:58:33.356Z"
   },
   {
    "duration": 17,
    "start_time": "2023-02-03T22:58:49.026Z"
   },
   {
    "duration": 276,
    "start_time": "2023-02-03T22:59:25.489Z"
   },
   {
    "duration": 3339,
    "start_time": "2023-02-03T23:00:46.774Z"
   },
   {
    "duration": 277,
    "start_time": "2023-02-03T23:02:16.285Z"
   },
   {
    "duration": 48,
    "start_time": "2023-02-03T23:03:11.279Z"
   },
   {
    "duration": 3309,
    "start_time": "2023-02-03T23:03:17.789Z"
   },
   {
    "duration": 13815,
    "start_time": "2023-02-03T23:04:20.201Z"
   },
   {
    "duration": 13715,
    "start_time": "2023-02-03T23:06:33.377Z"
   },
   {
    "duration": 138,
    "start_time": "2023-02-03T23:08:20.805Z"
   },
   {
    "duration": 5,
    "start_time": "2023-02-03T23:08:43.524Z"
   },
   {
    "duration": 131,
    "start_time": "2023-02-03T23:08:50.539Z"
   },
   {
    "duration": 3293,
    "start_time": "2023-02-03T23:10:54.600Z"
   },
   {
    "duration": 10028,
    "start_time": "2023-02-03T23:11:07.070Z"
   },
   {
    "duration": 288,
    "start_time": "2023-02-03T23:11:53.148Z"
   },
   {
    "duration": 281,
    "start_time": "2023-02-03T23:12:00.821Z"
   },
   {
    "duration": 265,
    "start_time": "2023-02-03T23:12:07.024Z"
   },
   {
    "duration": 15,
    "start_time": "2023-02-03T23:12:13.281Z"
   },
   {
    "duration": 17,
    "start_time": "2023-02-03T23:12:17.705Z"
   },
   {
    "duration": 15,
    "start_time": "2023-02-03T23:12:22.648Z"
   },
   {
    "duration": 79,
    "start_time": "2023-02-03T23:13:20.888Z"
   },
   {
    "duration": 4,
    "start_time": "2023-02-03T23:13:43.331Z"
   },
   {
    "duration": 4,
    "start_time": "2023-02-03T23:13:46.762Z"
   },
   {
    "duration": 12505,
    "start_time": "2023-02-03T23:13:58.520Z"
   },
   {
    "duration": 3312,
    "start_time": "2023-02-03T23:14:25.785Z"
   },
   {
    "duration": 10078,
    "start_time": "2023-02-03T23:14:36.958Z"
   },
   {
    "duration": 10465,
    "start_time": "2023-02-03T23:15:01.486Z"
   },
   {
    "duration": 12561,
    "start_time": "2023-02-03T23:15:18.267Z"
   },
   {
    "duration": 10581,
    "start_time": "2023-02-03T23:16:38.986Z"
   },
   {
    "duration": 10066,
    "start_time": "2023-02-03T23:17:22.192Z"
   },
   {
    "duration": 139,
    "start_time": "2023-02-03T23:18:01.981Z"
   },
   {
    "duration": 823,
    "start_time": "2023-02-03T23:18:17.686Z"
   },
   {
    "duration": 802,
    "start_time": "2023-02-03T23:19:44.005Z"
   },
   {
    "duration": 44,
    "start_time": "2023-02-03T23:23:49.763Z"
   },
   {
    "duration": 122,
    "start_time": "2023-02-03T23:30:39.065Z"
   },
   {
    "duration": 19,
    "start_time": "2023-02-03T23:34:49.555Z"
   },
   {
    "duration": 16,
    "start_time": "2023-02-03T23:34:54.067Z"
   },
   {
    "duration": 260,
    "start_time": "2023-02-03T23:35:21.878Z"
   },
   {
    "duration": 3302,
    "start_time": "2023-02-03T23:36:22.756Z"
   },
   {
    "duration": 13634,
    "start_time": "2023-02-03T23:36:50.529Z"
   },
   {
    "duration": 10,
    "start_time": "2023-02-03T23:44:46.898Z"
   },
   {
    "duration": 8,
    "start_time": "2023-02-03T23:47:04.073Z"
   },
   {
    "duration": 28,
    "start_time": "2023-02-03T23:47:11.370Z"
   },
   {
    "duration": 11,
    "start_time": "2023-02-03T23:47:13.435Z"
   },
   {
    "duration": 12,
    "start_time": "2023-02-03T23:47:27.913Z"
   },
   {
    "duration": 12,
    "start_time": "2023-02-03T23:47:41.277Z"
   },
   {
    "duration": 14,
    "start_time": "2023-02-03T23:48:27.763Z"
   },
   {
    "duration": 14,
    "start_time": "2023-02-03T23:48:45.967Z"
   },
   {
    "duration": 689,
    "start_time": "2023-02-03T23:50:11.495Z"
   },
   {
    "duration": 14,
    "start_time": "2023-02-03T23:50:12.978Z"
   },
   {
    "duration": 67,
    "start_time": "2023-02-03T23:50:27.606Z"
   },
   {
    "duration": 69,
    "start_time": "2023-02-03T23:50:38.706Z"
   },
   {
    "duration": 68,
    "start_time": "2023-02-03T23:50:48.632Z"
   },
   {
    "duration": 717,
    "start_time": "2023-02-03T23:51:29.041Z"
   },
   {
    "duration": 69,
    "start_time": "2023-02-03T23:51:30.214Z"
   },
   {
    "duration": 136,
    "start_time": "2023-02-03T23:51:44.917Z"
   },
   {
    "duration": 128,
    "start_time": "2023-02-03T23:51:53.828Z"
   },
   {
    "duration": 69,
    "start_time": "2023-02-03T23:52:01.985Z"
   },
   {
    "duration": 174,
    "start_time": "2023-02-03T23:52:05.607Z"
   },
   {
    "duration": 5,
    "start_time": "2023-02-03T23:55:13.036Z"
   },
   {
    "duration": 43,
    "start_time": "2023-02-03T23:55:13.043Z"
   },
   {
    "duration": 4,
    "start_time": "2023-02-03T23:55:13.087Z"
   },
   {
    "duration": 13,
    "start_time": "2023-02-03T23:55:13.093Z"
   },
   {
    "duration": 11,
    "start_time": "2023-02-03T23:55:13.109Z"
   },
   {
    "duration": 40,
    "start_time": "2023-02-03T23:55:13.122Z"
   },
   {
    "duration": 1564,
    "start_time": "2023-02-03T23:55:13.164Z"
   },
   {
    "duration": 10,
    "start_time": "2023-02-03T23:55:14.730Z"
   },
   {
    "duration": 5,
    "start_time": "2023-02-03T23:55:14.742Z"
   },
   {
    "duration": 5,
    "start_time": "2023-02-03T23:55:14.749Z"
   },
   {
    "duration": 7,
    "start_time": "2023-02-03T23:55:14.755Z"
   },
   {
    "duration": 17,
    "start_time": "2023-02-03T23:55:14.763Z"
   },
   {
    "duration": 10,
    "start_time": "2023-02-03T23:55:14.781Z"
   },
   {
    "duration": 5,
    "start_time": "2023-02-03T23:55:14.794Z"
   },
   {
    "duration": 7,
    "start_time": "2023-02-03T23:55:14.800Z"
   },
   {
    "duration": 4,
    "start_time": "2023-02-03T23:55:14.808Z"
   },
   {
    "duration": 12,
    "start_time": "2023-02-03T23:55:14.814Z"
   },
   {
    "duration": 17,
    "start_time": "2023-02-03T23:55:14.849Z"
   },
   {
    "duration": 3,
    "start_time": "2023-02-03T23:55:14.868Z"
   },
   {
    "duration": 12,
    "start_time": "2023-02-03T23:55:14.873Z"
   },
   {
    "duration": 8,
    "start_time": "2023-02-03T23:55:14.886Z"
   },
   {
    "duration": 11,
    "start_time": "2023-02-03T23:55:14.895Z"
   },
   {
    "duration": 161,
    "start_time": "2023-02-03T23:55:14.907Z"
   },
   {
    "duration": 82,
    "start_time": "2023-02-03T23:55:15.070Z"
   },
   {
    "duration": 410,
    "start_time": "2023-02-03T23:55:15.154Z"
   },
   {
    "duration": 3357,
    "start_time": "2023-02-03T23:55:15.565Z"
   },
   {
    "duration": 13667,
    "start_time": "2023-02-03T23:55:18.924Z"
   },
   {
    "duration": 13,
    "start_time": "2023-02-03T23:55:32.593Z"
   },
   {
    "duration": 49,
    "start_time": "2023-02-03T23:55:32.608Z"
   },
   {
    "duration": 372,
    "start_time": "2023-02-03T23:55:32.659Z"
   },
   {
    "duration": 3303,
    "start_time": "2023-02-03T23:55:33.033Z"
   },
   {
    "duration": 10161,
    "start_time": "2023-02-03T23:55:36.338Z"
   },
   {
    "duration": 10647,
    "start_time": "2023-02-03T23:55:46.501Z"
   },
   {
    "duration": 716,
    "start_time": "2023-02-03T23:55:57.150Z"
   },
   {
    "duration": 83,
    "start_time": "2023-02-03T23:55:57.867Z"
   },
   {
    "duration": 360,
    "start_time": "2023-02-03T23:55:57.952Z"
   },
   {
    "duration": 824,
    "start_time": "2023-02-03T23:55:58.314Z"
   },
   {
    "duration": 45,
    "start_time": "2023-02-04T09:29:21.250Z"
   },
   {
    "duration": 1427,
    "start_time": "2023-02-04T09:29:38.070Z"
   },
   {
    "duration": 186,
    "start_time": "2023-02-04T09:29:39.499Z"
   },
   {
    "duration": 6,
    "start_time": "2023-02-04T09:29:39.687Z"
   },
   {
    "duration": 22,
    "start_time": "2023-02-04T09:29:39.694Z"
   },
   {
    "duration": 13,
    "start_time": "2023-02-04T09:29:39.717Z"
   },
   {
    "duration": 59,
    "start_time": "2023-02-04T09:29:39.731Z"
   },
   {
    "duration": 1530,
    "start_time": "2023-02-04T09:29:39.791Z"
   },
   {
    "duration": 12,
    "start_time": "2023-02-04T09:29:41.323Z"
   },
   {
    "duration": 16,
    "start_time": "2023-02-04T09:29:41.336Z"
   },
   {
    "duration": 6,
    "start_time": "2023-02-04T09:29:41.355Z"
   },
   {
    "duration": 12,
    "start_time": "2023-02-04T09:29:41.363Z"
   },
   {
    "duration": 8,
    "start_time": "2023-02-04T09:29:41.377Z"
   },
   {
    "duration": 10,
    "start_time": "2023-02-04T09:29:41.387Z"
   },
   {
    "duration": 6,
    "start_time": "2023-02-04T09:29:41.398Z"
   },
   {
    "duration": 7,
    "start_time": "2023-02-04T09:29:41.405Z"
   },
   {
    "duration": 15,
    "start_time": "2023-02-04T09:29:41.413Z"
   },
   {
    "duration": 13,
    "start_time": "2023-02-04T09:29:41.429Z"
   },
   {
    "duration": 28,
    "start_time": "2023-02-04T09:29:41.445Z"
   },
   {
    "duration": 4,
    "start_time": "2023-02-04T09:29:41.474Z"
   },
   {
    "duration": 12,
    "start_time": "2023-02-04T09:29:41.480Z"
   },
   {
    "duration": 35,
    "start_time": "2023-02-04T09:29:41.494Z"
   },
   {
    "duration": 4,
    "start_time": "2023-02-04T09:29:41.531Z"
   },
   {
    "duration": 145,
    "start_time": "2023-02-04T09:29:41.536Z"
   },
   {
    "duration": 91,
    "start_time": "2023-02-04T09:29:41.682Z"
   },
   {
    "duration": 0,
    "start_time": "2023-02-04T09:29:41.776Z"
   },
   {
    "duration": 0,
    "start_time": "2023-02-04T09:29:41.778Z"
   },
   {
    "duration": 0,
    "start_time": "2023-02-04T09:29:41.779Z"
   },
   {
    "duration": 0,
    "start_time": "2023-02-04T09:29:41.780Z"
   },
   {
    "duration": 0,
    "start_time": "2023-02-04T09:29:41.782Z"
   },
   {
    "duration": 0,
    "start_time": "2023-02-04T09:29:41.783Z"
   },
   {
    "duration": 0,
    "start_time": "2023-02-04T09:29:41.784Z"
   },
   {
    "duration": 0,
    "start_time": "2023-02-04T09:29:41.786Z"
   },
   {
    "duration": 0,
    "start_time": "2023-02-04T09:29:41.787Z"
   },
   {
    "duration": 0,
    "start_time": "2023-02-04T09:29:41.788Z"
   },
   {
    "duration": 0,
    "start_time": "2023-02-04T09:29:41.790Z"
   },
   {
    "duration": 0,
    "start_time": "2023-02-04T09:29:41.791Z"
   },
   {
    "duration": 0,
    "start_time": "2023-02-04T09:29:41.793Z"
   },
   {
    "duration": 24,
    "start_time": "2023-02-04T09:36:40.387Z"
   },
   {
    "duration": 15,
    "start_time": "2023-02-04T09:37:59.084Z"
   },
   {
    "duration": 4,
    "start_time": "2023-02-04T09:38:14.589Z"
   },
   {
    "duration": 51,
    "start_time": "2023-02-04T09:38:14.596Z"
   },
   {
    "duration": 6,
    "start_time": "2023-02-04T09:38:14.649Z"
   },
   {
    "duration": 26,
    "start_time": "2023-02-04T09:38:14.657Z"
   },
   {
    "duration": 17,
    "start_time": "2023-02-04T09:38:14.684Z"
   },
   {
    "duration": 60,
    "start_time": "2023-02-04T09:38:14.703Z"
   },
   {
    "duration": 1412,
    "start_time": "2023-02-04T09:38:14.765Z"
   },
   {
    "duration": 13,
    "start_time": "2023-02-04T09:38:16.179Z"
   },
   {
    "duration": 8,
    "start_time": "2023-02-04T09:38:16.194Z"
   },
   {
    "duration": 8,
    "start_time": "2023-02-04T09:38:16.228Z"
   },
   {
    "duration": 9,
    "start_time": "2023-02-04T09:38:16.238Z"
   },
   {
    "duration": 5,
    "start_time": "2023-02-04T09:38:16.249Z"
   },
   {
    "duration": 7,
    "start_time": "2023-02-04T09:38:16.256Z"
   },
   {
    "duration": 8,
    "start_time": "2023-02-04T09:38:16.265Z"
   },
   {
    "duration": 9,
    "start_time": "2023-02-04T09:38:16.274Z"
   },
   {
    "duration": 58,
    "start_time": "2023-02-04T09:38:16.285Z"
   },
   {
    "duration": 17,
    "start_time": "2023-02-04T09:38:16.345Z"
   },
   {
    "duration": 29,
    "start_time": "2023-02-04T09:38:16.365Z"
   },
   {
    "duration": 5,
    "start_time": "2023-02-04T09:38:16.396Z"
   },
   {
    "duration": 43,
    "start_time": "2023-02-04T09:38:16.403Z"
   },
   {
    "duration": 9,
    "start_time": "2023-02-04T09:38:16.449Z"
   },
   {
    "duration": 5,
    "start_time": "2023-02-04T09:38:16.461Z"
   },
   {
    "duration": 166,
    "start_time": "2023-02-04T09:38:16.467Z"
   },
   {
    "duration": 17,
    "start_time": "2023-02-04T09:38:16.634Z"
   },
   {
    "duration": 0,
    "start_time": "2023-02-04T09:38:16.653Z"
   },
   {
    "duration": 0,
    "start_time": "2023-02-04T09:38:16.655Z"
   },
   {
    "duration": 0,
    "start_time": "2023-02-04T09:38:16.656Z"
   },
   {
    "duration": 0,
    "start_time": "2023-02-04T09:38:16.656Z"
   },
   {
    "duration": 0,
    "start_time": "2023-02-04T09:38:16.657Z"
   },
   {
    "duration": 0,
    "start_time": "2023-02-04T09:38:16.658Z"
   },
   {
    "duration": 0,
    "start_time": "2023-02-04T09:38:16.659Z"
   },
   {
    "duration": 0,
    "start_time": "2023-02-04T09:38:16.661Z"
   },
   {
    "duration": 0,
    "start_time": "2023-02-04T09:38:16.663Z"
   },
   {
    "duration": 0,
    "start_time": "2023-02-04T09:38:16.664Z"
   },
   {
    "duration": 0,
    "start_time": "2023-02-04T09:38:16.666Z"
   },
   {
    "duration": 0,
    "start_time": "2023-02-04T09:38:16.667Z"
   },
   {
    "duration": 0,
    "start_time": "2023-02-04T09:38:16.669Z"
   },
   {
    "duration": 7,
    "start_time": "2023-02-04T09:38:51.002Z"
   },
   {
    "duration": 22,
    "start_time": "2023-02-04T09:38:54.023Z"
   },
   {
    "duration": 18,
    "start_time": "2023-02-04T09:39:14.455Z"
   },
   {
    "duration": 4,
    "start_time": "2023-02-04T09:40:25.915Z"
   },
   {
    "duration": 10,
    "start_time": "2023-02-04T09:40:26.963Z"
   },
   {
    "duration": 8,
    "start_time": "2023-02-04T09:40:30.774Z"
   },
   {
    "duration": 4,
    "start_time": "2023-02-04T09:40:31.189Z"
   },
   {
    "duration": 128,
    "start_time": "2023-02-04T09:40:38.820Z"
   },
   {
    "duration": 42,
    "start_time": "2023-02-04T09:40:50.599Z"
   },
   {
    "duration": 413,
    "start_time": "2023-02-04T09:41:11.271Z"
   },
   {
    "duration": 3159,
    "start_time": "2023-02-04T09:41:20.827Z"
   },
   {
    "duration": 3194,
    "start_time": "2023-02-04T09:41:34.842Z"
   },
   {
    "duration": 12699,
    "start_time": "2023-02-04T09:41:48.002Z"
   },
   {
    "duration": 4,
    "start_time": "2023-02-04T09:48:13.445Z"
   },
   {
    "duration": 45,
    "start_time": "2023-02-04T09:48:13.452Z"
   },
   {
    "duration": 6,
    "start_time": "2023-02-04T09:48:13.500Z"
   },
   {
    "duration": 34,
    "start_time": "2023-02-04T09:48:13.509Z"
   },
   {
    "duration": 74,
    "start_time": "2023-02-04T09:48:13.545Z"
   },
   {
    "duration": 146,
    "start_time": "2023-02-04T09:48:13.623Z"
   },
   {
    "duration": 2595,
    "start_time": "2023-02-04T09:48:13.772Z"
   },
   {
    "duration": 15,
    "start_time": "2023-02-04T09:48:16.370Z"
   },
   {
    "duration": 31,
    "start_time": "2023-02-04T09:48:16.388Z"
   },
   {
    "duration": 47,
    "start_time": "2023-02-04T09:48:16.429Z"
   },
   {
    "duration": 16,
    "start_time": "2023-02-04T09:48:16.485Z"
   },
   {
    "duration": 12,
    "start_time": "2023-02-04T09:48:16.505Z"
   },
   {
    "duration": 25,
    "start_time": "2023-02-04T09:48:16.521Z"
   },
   {
    "duration": 31,
    "start_time": "2023-02-04T09:48:16.549Z"
   },
   {
    "duration": 15,
    "start_time": "2023-02-04T09:48:16.582Z"
   },
   {
    "duration": 14,
    "start_time": "2023-02-04T09:48:16.600Z"
   },
   {
    "duration": 26,
    "start_time": "2023-02-04T09:48:16.617Z"
   },
   {
    "duration": 55,
    "start_time": "2023-02-04T09:48:16.646Z"
   },
   {
    "duration": 7,
    "start_time": "2023-02-04T09:48:16.704Z"
   },
   {
    "duration": 64,
    "start_time": "2023-02-04T09:48:16.714Z"
   },
   {
    "duration": 12,
    "start_time": "2023-02-04T09:48:16.782Z"
   },
   {
    "duration": 13,
    "start_time": "2023-02-04T09:48:16.796Z"
   },
   {
    "duration": 190,
    "start_time": "2023-02-04T09:48:16.812Z"
   },
   {
    "duration": 138,
    "start_time": "2023-02-04T09:48:17.006Z"
   },
   {
    "duration": 509,
    "start_time": "2023-02-04T09:48:17.149Z"
   },
   {
    "duration": 4298,
    "start_time": "2023-02-04T09:48:17.664Z"
   },
   {
    "duration": 14239,
    "start_time": "2023-02-04T09:48:21.967Z"
   },
   {
    "duration": 19,
    "start_time": "2023-02-04T09:48:36.209Z"
   },
   {
    "duration": 113,
    "start_time": "2023-02-04T09:48:36.230Z"
   },
   {
    "duration": 513,
    "start_time": "2023-02-04T09:48:36.347Z"
   },
   {
    "duration": 3574,
    "start_time": "2023-02-04T09:48:36.862Z"
   },
   {
    "duration": 14212,
    "start_time": "2023-02-04T09:48:40.439Z"
   },
   {
    "duration": 10553,
    "start_time": "2023-02-04T09:48:54.655Z"
   },
   {
    "duration": 726,
    "start_time": "2023-02-04T09:49:05.209Z"
   },
   {
    "duration": 112,
    "start_time": "2023-02-04T09:49:05.937Z"
   },
   {
    "duration": 208,
    "start_time": "2023-02-04T09:49:06.128Z"
   },
   {
    "duration": 807,
    "start_time": "2023-02-04T09:49:06.337Z"
   },
   {
    "duration": 31,
    "start_time": "2023-02-04T09:51:12.362Z"
   },
   {
    "duration": 20,
    "start_time": "2023-02-04T09:52:21.099Z"
   },
   {
    "duration": 87,
    "start_time": "2023-02-04T09:53:27.165Z"
   },
   {
    "duration": 96,
    "start_time": "2023-02-04T09:53:39.342Z"
   },
   {
    "duration": 49,
    "start_time": "2023-02-04T09:53:51.480Z"
   },
   {
    "duration": 107,
    "start_time": "2023-02-04T10:00:36.334Z"
   },
   {
    "duration": 54,
    "start_time": "2023-02-04T10:01:15.053Z"
   },
   {
    "duration": 284,
    "start_time": "2023-02-04T10:01:17.788Z"
   },
   {
    "duration": 289,
    "start_time": "2023-02-04T10:01:50.590Z"
   },
   {
    "duration": 2982,
    "start_time": "2023-02-04T10:02:22.624Z"
   },
   {
    "duration": 13505,
    "start_time": "2023-02-04T10:03:20.777Z"
   },
   {
    "duration": 6,
    "start_time": "2023-02-04T10:09:43.468Z"
   },
   {
    "duration": 39,
    "start_time": "2023-02-04T10:09:43.476Z"
   },
   {
    "duration": 4,
    "start_time": "2023-02-04T10:09:43.517Z"
   },
   {
    "duration": 20,
    "start_time": "2023-02-04T10:09:43.522Z"
   },
   {
    "duration": 19,
    "start_time": "2023-02-04T10:09:43.544Z"
   },
   {
    "duration": 47,
    "start_time": "2023-02-04T10:09:43.564Z"
   },
   {
    "duration": 1424,
    "start_time": "2023-02-04T10:09:43.612Z"
   },
   {
    "duration": 11,
    "start_time": "2023-02-04T10:09:45.037Z"
   },
   {
    "duration": 6,
    "start_time": "2023-02-04T10:09:45.049Z"
   },
   {
    "duration": 15,
    "start_time": "2023-02-04T10:09:45.056Z"
   },
   {
    "duration": 11,
    "start_time": "2023-02-04T10:09:45.073Z"
   },
   {
    "duration": 9,
    "start_time": "2023-02-04T10:09:45.085Z"
   },
   {
    "duration": 9,
    "start_time": "2023-02-04T10:09:45.095Z"
   },
   {
    "duration": 4,
    "start_time": "2023-02-04T10:09:45.107Z"
   },
   {
    "duration": 6,
    "start_time": "2023-02-04T10:09:45.136Z"
   },
   {
    "duration": 9,
    "start_time": "2023-02-04T10:09:45.146Z"
   },
   {
    "duration": 13,
    "start_time": "2023-02-04T10:09:45.156Z"
   },
   {
    "duration": 18,
    "start_time": "2023-02-04T10:09:45.170Z"
   },
   {
    "duration": 4,
    "start_time": "2023-02-04T10:09:45.189Z"
   },
   {
    "duration": 11,
    "start_time": "2023-02-04T10:09:45.194Z"
   },
   {
    "duration": 29,
    "start_time": "2023-02-04T10:09:45.206Z"
   },
   {
    "duration": 15,
    "start_time": "2023-02-04T10:09:45.239Z"
   },
   {
    "duration": 122,
    "start_time": "2023-02-04T10:09:45.256Z"
   },
   {
    "duration": 58,
    "start_time": "2023-02-04T10:09:45.380Z"
   },
   {
    "duration": 452,
    "start_time": "2023-02-04T10:09:45.441Z"
   },
   {
    "duration": 3097,
    "start_time": "2023-02-04T10:09:45.894Z"
   },
   {
    "duration": 12151,
    "start_time": "2023-02-04T10:09:48.992Z"
   },
   {
    "duration": 11,
    "start_time": "2023-02-04T10:10:01.145Z"
   },
   {
    "duration": 35,
    "start_time": "2023-02-04T10:10:01.157Z"
   },
   {
    "duration": 476,
    "start_time": "2023-02-04T10:10:01.233Z"
   },
   {
    "duration": 2938,
    "start_time": "2023-02-04T10:10:01.711Z"
   },
   {
    "duration": 9164,
    "start_time": "2023-02-04T10:10:04.651Z"
   },
   {
    "duration": 9829,
    "start_time": "2023-02-04T10:10:13.832Z"
   },
   {
    "duration": 679,
    "start_time": "2023-02-04T10:10:23.663Z"
   },
   {
    "duration": 89,
    "start_time": "2023-02-04T10:10:24.346Z"
   },
   {
    "duration": 281,
    "start_time": "2023-02-04T10:10:24.437Z"
   },
   {
    "duration": 767,
    "start_time": "2023-02-04T10:10:24.719Z"
   },
   {
    "duration": 8,
    "start_time": "2023-02-04T10:16:07.165Z"
   },
   {
    "duration": 4,
    "start_time": "2023-02-04T10:18:06.761Z"
   },
   {
    "duration": 43,
    "start_time": "2023-02-04T10:18:06.766Z"
   },
   {
    "duration": 3,
    "start_time": "2023-02-04T10:18:06.810Z"
   },
   {
    "duration": 13,
    "start_time": "2023-02-04T10:18:06.815Z"
   },
   {
    "duration": 15,
    "start_time": "2023-02-04T10:18:06.830Z"
   },
   {
    "duration": 37,
    "start_time": "2023-02-04T10:18:06.847Z"
   },
   {
    "duration": 1344,
    "start_time": "2023-02-04T10:18:06.885Z"
   },
   {
    "duration": 10,
    "start_time": "2023-02-04T10:18:08.231Z"
   },
   {
    "duration": 6,
    "start_time": "2023-02-04T10:18:08.242Z"
   },
   {
    "duration": 6,
    "start_time": "2023-02-04T10:18:08.249Z"
   },
   {
    "duration": 6,
    "start_time": "2023-02-04T10:18:08.257Z"
   },
   {
    "duration": 5,
    "start_time": "2023-02-04T10:18:08.264Z"
   },
   {
    "duration": 5,
    "start_time": "2023-02-04T10:18:08.270Z"
   },
   {
    "duration": 4,
    "start_time": "2023-02-04T10:18:08.278Z"
   },
   {
    "duration": 45,
    "start_time": "2023-02-04T10:18:08.284Z"
   },
   {
    "duration": 6,
    "start_time": "2023-02-04T10:18:08.331Z"
   },
   {
    "duration": 12,
    "start_time": "2023-02-04T10:18:08.339Z"
   },
   {
    "duration": 113,
    "start_time": "2023-02-04T10:18:08.353Z"
   },
   {
    "duration": 4,
    "start_time": "2023-02-04T10:18:08.467Z"
   },
   {
    "duration": 10,
    "start_time": "2023-02-04T10:18:08.473Z"
   },
   {
    "duration": 7,
    "start_time": "2023-02-04T10:18:08.485Z"
   },
   {
    "duration": 35,
    "start_time": "2023-02-04T10:18:08.493Z"
   },
   {
    "duration": 10,
    "start_time": "2023-02-04T10:18:08.530Z"
   },
   {
    "duration": 121,
    "start_time": "2023-02-04T10:18:08.542Z"
   },
   {
    "duration": 66,
    "start_time": "2023-02-04T10:18:08.664Z"
   },
   {
    "duration": 354,
    "start_time": "2023-02-04T10:18:08.733Z"
   },
   {
    "duration": 2854,
    "start_time": "2023-02-04T10:18:09.089Z"
   },
   {
    "duration": 11643,
    "start_time": "2023-02-04T10:18:11.945Z"
   },
   {
    "duration": 2,
    "start_time": "2023-02-04T10:18:23.590Z"
   },
   {
    "duration": 35,
    "start_time": "2023-02-04T10:18:23.594Z"
   },
   {
    "duration": 439,
    "start_time": "2023-02-04T10:18:23.630Z"
   },
   {
    "duration": 2849,
    "start_time": "2023-02-04T10:18:24.070Z"
   },
   {
    "duration": 8851,
    "start_time": "2023-02-04T10:18:26.921Z"
   },
   {
    "duration": 9257,
    "start_time": "2023-02-04T10:18:35.773Z"
   },
   {
    "duration": 657,
    "start_time": "2023-02-04T10:18:45.032Z"
   },
   {
    "duration": 137,
    "start_time": "2023-02-04T10:18:45.691Z"
   },
   {
    "duration": 247,
    "start_time": "2023-02-04T10:18:45.830Z"
   },
   {
    "duration": 711,
    "start_time": "2023-02-04T10:18:46.078Z"
   },
   {
    "duration": 14,
    "start_time": "2023-02-04T10:26:04.771Z"
   },
   {
    "duration": 296,
    "start_time": "2023-02-04T10:26:07.061Z"
   },
   {
    "duration": 2852,
    "start_time": "2023-02-04T10:26:18.461Z"
   },
   {
    "duration": 8837,
    "start_time": "2023-02-04T10:26:21.314Z"
   },
   {
    "duration": 9994,
    "start_time": "2023-02-04T10:26:43.555Z"
   },
   {
    "duration": 10652,
    "start_time": "2023-02-04T10:27:09.282Z"
   },
   {
    "duration": 310,
    "start_time": "2023-02-04T10:28:55.538Z"
   },
   {
    "duration": 291,
    "start_time": "2023-02-04T10:29:27.126Z"
   },
   {
    "duration": 413,
    "start_time": "2023-02-04T10:29:47.368Z"
   },
   {
    "duration": 89,
    "start_time": "2023-02-04T10:29:50.539Z"
   },
   {
    "duration": 155,
    "start_time": "2023-02-04T10:29:51.164Z"
   },
   {
    "duration": 4,
    "start_time": "2023-02-04T10:35:11.627Z"
   },
   {
    "duration": 8,
    "start_time": "2023-02-04T10:35:22.613Z"
   },
   {
    "duration": 8,
    "start_time": "2023-02-04T10:35:37.010Z"
   },
   {
    "duration": 14,
    "start_time": "2023-02-04T10:35:44.940Z"
   },
   {
    "duration": 4,
    "start_time": "2023-02-04T10:36:38.490Z"
   },
   {
    "duration": 14,
    "start_time": "2023-02-04T10:36:39.290Z"
   },
   {
    "duration": 4,
    "start_time": "2023-02-04T10:40:01.241Z"
   },
   {
    "duration": 14,
    "start_time": "2023-02-04T10:40:02.275Z"
   },
   {
    "duration": 5,
    "start_time": "2023-02-04T10:40:41.544Z"
   },
   {
    "duration": 9,
    "start_time": "2023-02-04T10:40:51.299Z"
   },
   {
    "duration": 14,
    "start_time": "2023-02-04T10:40:58.987Z"
   },
   {
    "duration": 21,
    "start_time": "2023-02-04T10:44:01.468Z"
   },
   {
    "duration": 18,
    "start_time": "2023-02-04T10:44:37.680Z"
   },
   {
    "duration": 4,
    "start_time": "2023-02-04T10:45:18.014Z"
   },
   {
    "duration": 8,
    "start_time": "2023-02-04T10:45:33.517Z"
   },
   {
    "duration": 4,
    "start_time": "2023-02-04T10:45:38.385Z"
   },
   {
    "duration": 3,
    "start_time": "2023-02-04T10:45:48.669Z"
   },
   {
    "duration": 11,
    "start_time": "2023-02-04T10:45:52.503Z"
   },
   {
    "duration": 14,
    "start_time": "2023-02-04T10:45:57.515Z"
   },
   {
    "duration": 4,
    "start_time": "2023-02-04T10:46:06.314Z"
   },
   {
    "duration": 3,
    "start_time": "2023-02-04T10:46:14.845Z"
   },
   {
    "duration": 12,
    "start_time": "2023-02-04T10:46:40.731Z"
   },
   {
    "duration": 12,
    "start_time": "2023-02-04T10:47:04.020Z"
   },
   {
    "duration": 4,
    "start_time": "2023-02-04T10:47:53.976Z"
   },
   {
    "duration": 15,
    "start_time": "2023-02-04T10:48:06.652Z"
   },
   {
    "duration": 7,
    "start_time": "2023-02-04T10:49:09.260Z"
   },
   {
    "duration": 9,
    "start_time": "2023-02-04T10:49:24.970Z"
   },
   {
    "duration": 3,
    "start_time": "2023-02-04T10:49:57.192Z"
   },
   {
    "duration": 17,
    "start_time": "2023-02-04T10:49:59.517Z"
   },
   {
    "duration": 16,
    "start_time": "2023-02-04T10:50:18.021Z"
   },
   {
    "duration": 16,
    "start_time": "2023-02-04T10:53:15.716Z"
   },
   {
    "duration": 16,
    "start_time": "2023-02-04T10:53:25.949Z"
   },
   {
    "duration": 3,
    "start_time": "2023-02-04T10:53:29.129Z"
   },
   {
    "duration": 40,
    "start_time": "2023-02-04T10:53:29.134Z"
   },
   {
    "duration": 3,
    "start_time": "2023-02-04T10:53:29.176Z"
   },
   {
    "duration": 13,
    "start_time": "2023-02-04T10:53:29.180Z"
   },
   {
    "duration": 13,
    "start_time": "2023-02-04T10:53:29.194Z"
   },
   {
    "duration": 46,
    "start_time": "2023-02-04T10:53:29.209Z"
   },
   {
    "duration": 1376,
    "start_time": "2023-02-04T10:53:29.256Z"
   },
   {
    "duration": 10,
    "start_time": "2023-02-04T10:53:30.634Z"
   },
   {
    "duration": 42,
    "start_time": "2023-02-04T10:53:30.647Z"
   },
   {
    "duration": 33,
    "start_time": "2023-02-04T10:53:30.691Z"
   },
   {
    "duration": 23,
    "start_time": "2023-02-04T10:53:30.725Z"
   },
   {
    "duration": 20,
    "start_time": "2023-02-04T10:53:30.750Z"
   },
   {
    "duration": 19,
    "start_time": "2023-02-04T10:53:30.771Z"
   },
   {
    "duration": 27,
    "start_time": "2023-02-04T10:53:30.792Z"
   },
   {
    "duration": 12,
    "start_time": "2023-02-04T10:53:30.820Z"
   },
   {
    "duration": 30,
    "start_time": "2023-02-04T10:53:30.834Z"
   },
   {
    "duration": 36,
    "start_time": "2023-02-04T10:53:30.866Z"
   },
   {
    "duration": 26,
    "start_time": "2023-02-04T10:53:30.904Z"
   },
   {
    "duration": 9,
    "start_time": "2023-02-04T10:53:30.932Z"
   },
   {
    "duration": 43,
    "start_time": "2023-02-04T10:53:30.943Z"
   },
   {
    "duration": 40,
    "start_time": "2023-02-04T10:53:30.987Z"
   },
   {
    "duration": 41,
    "start_time": "2023-02-04T10:53:31.029Z"
   },
   {
    "duration": 0,
    "start_time": "2023-02-04T10:53:31.072Z"
   },
   {
    "duration": 0,
    "start_time": "2023-02-04T10:53:31.073Z"
   },
   {
    "duration": 0,
    "start_time": "2023-02-04T10:53:31.074Z"
   },
   {
    "duration": 0,
    "start_time": "2023-02-04T10:53:31.075Z"
   },
   {
    "duration": 0,
    "start_time": "2023-02-04T10:53:31.076Z"
   },
   {
    "duration": 0,
    "start_time": "2023-02-04T10:53:31.077Z"
   },
   {
    "duration": 0,
    "start_time": "2023-02-04T10:53:31.078Z"
   },
   {
    "duration": 0,
    "start_time": "2023-02-04T10:53:31.079Z"
   },
   {
    "duration": 0,
    "start_time": "2023-02-04T10:53:31.080Z"
   },
   {
    "duration": 0,
    "start_time": "2023-02-04T10:53:31.081Z"
   },
   {
    "duration": 0,
    "start_time": "2023-02-04T10:53:31.082Z"
   },
   {
    "duration": 0,
    "start_time": "2023-02-04T10:53:31.083Z"
   },
   {
    "duration": 0,
    "start_time": "2023-02-04T10:53:31.084Z"
   },
   {
    "duration": 0,
    "start_time": "2023-02-04T10:53:31.085Z"
   },
   {
    "duration": 0,
    "start_time": "2023-02-04T10:53:31.086Z"
   },
   {
    "duration": 0,
    "start_time": "2023-02-04T10:53:31.088Z"
   },
   {
    "duration": 0,
    "start_time": "2023-02-04T10:53:31.089Z"
   },
   {
    "duration": 0,
    "start_time": "2023-02-04T10:53:31.090Z"
   },
   {
    "duration": 4,
    "start_time": "2023-02-04T10:54:54.568Z"
   },
   {
    "duration": 11,
    "start_time": "2023-02-04T10:54:59.585Z"
   },
   {
    "duration": 6,
    "start_time": "2023-02-04T10:55:39.513Z"
   },
   {
    "duration": 40,
    "start_time": "2023-02-04T10:55:39.520Z"
   },
   {
    "duration": 4,
    "start_time": "2023-02-04T10:55:39.561Z"
   },
   {
    "duration": 14,
    "start_time": "2023-02-04T10:55:39.566Z"
   },
   {
    "duration": 13,
    "start_time": "2023-02-04T10:55:39.582Z"
   },
   {
    "duration": 52,
    "start_time": "2023-02-04T10:55:39.596Z"
   },
   {
    "duration": 1368,
    "start_time": "2023-02-04T10:55:39.649Z"
   },
   {
    "duration": 17,
    "start_time": "2023-02-04T10:55:41.018Z"
   },
   {
    "duration": 21,
    "start_time": "2023-02-04T10:55:41.037Z"
   },
   {
    "duration": 34,
    "start_time": "2023-02-04T10:55:41.059Z"
   },
   {
    "duration": 17,
    "start_time": "2023-02-04T10:55:41.095Z"
   },
   {
    "duration": 39,
    "start_time": "2023-02-04T10:55:41.114Z"
   },
   {
    "duration": 27,
    "start_time": "2023-02-04T10:55:41.154Z"
   },
   {
    "duration": 37,
    "start_time": "2023-02-04T10:55:41.182Z"
   },
   {
    "duration": 21,
    "start_time": "2023-02-04T10:55:41.221Z"
   },
   {
    "duration": 22,
    "start_time": "2023-02-04T10:55:41.243Z"
   },
   {
    "duration": 46,
    "start_time": "2023-02-04T10:55:41.266Z"
   },
   {
    "duration": 21,
    "start_time": "2023-02-04T10:55:41.314Z"
   },
   {
    "duration": 30,
    "start_time": "2023-02-04T10:55:41.337Z"
   },
   {
    "duration": 48,
    "start_time": "2023-02-04T10:55:41.368Z"
   },
   {
    "duration": 46,
    "start_time": "2023-02-04T10:55:41.417Z"
   },
   {
    "duration": 42,
    "start_time": "2023-02-04T10:55:41.464Z"
   },
   {
    "duration": 24,
    "start_time": "2023-02-04T10:55:41.507Z"
   },
   {
    "duration": 35,
    "start_time": "2023-02-04T10:55:41.533Z"
   },
   {
    "duration": 134,
    "start_time": "2023-02-04T10:55:41.570Z"
   },
   {
    "duration": 31,
    "start_time": "2023-02-04T10:55:41.706Z"
   },
   {
    "duration": 366,
    "start_time": "2023-02-04T10:55:41.829Z"
   },
   {
    "duration": 2987,
    "start_time": "2023-02-04T10:55:42.197Z"
   },
   {
    "duration": 12671,
    "start_time": "2023-02-04T10:55:45.186Z"
   },
   {
    "duration": 2,
    "start_time": "2023-02-04T10:55:57.859Z"
   },
   {
    "duration": 19,
    "start_time": "2023-02-04T10:55:57.863Z"
   },
   {
    "duration": 392,
    "start_time": "2023-02-04T10:55:57.929Z"
   },
   {
    "duration": 3015,
    "start_time": "2023-02-04T10:55:58.323Z"
   },
   {
    "duration": 10104,
    "start_time": "2023-02-04T10:56:01.340Z"
   },
   {
    "duration": 10568,
    "start_time": "2023-02-04T10:56:11.446Z"
   },
   {
    "duration": 415,
    "start_time": "2023-02-04T10:56:22.015Z"
   },
   {
    "duration": 47,
    "start_time": "2023-02-04T10:56:22.431Z"
   },
   {
    "duration": 262,
    "start_time": "2023-02-04T10:56:22.527Z"
   },
   {
    "duration": 17,
    "start_time": "2023-02-04T10:56:22.790Z"
   },
   {
    "duration": 0,
    "start_time": "2023-02-04T10:56:22.809Z"
   },
   {
    "duration": 13,
    "start_time": "2023-02-04T10:57:13.155Z"
   },
   {
    "duration": 7,
    "start_time": "2023-02-04T10:57:31.885Z"
   },
   {
    "duration": 4,
    "start_time": "2023-02-04T10:57:59.709Z"
   },
   {
    "duration": 42,
    "start_time": "2023-02-04T10:57:59.715Z"
   },
   {
    "duration": 4,
    "start_time": "2023-02-04T10:57:59.758Z"
   },
   {
    "duration": 13,
    "start_time": "2023-02-04T10:57:59.763Z"
   },
   {
    "duration": 11,
    "start_time": "2023-02-04T10:57:59.778Z"
   },
   {
    "duration": 67,
    "start_time": "2023-02-04T10:57:59.791Z"
   },
   {
    "duration": 1438,
    "start_time": "2023-02-04T10:57:59.860Z"
   },
   {
    "duration": 9,
    "start_time": "2023-02-04T10:58:01.300Z"
   },
   {
    "duration": 18,
    "start_time": "2023-02-04T10:58:01.311Z"
   },
   {
    "duration": 14,
    "start_time": "2023-02-04T10:58:01.330Z"
   },
   {
    "duration": 22,
    "start_time": "2023-02-04T10:58:01.346Z"
   },
   {
    "duration": 22,
    "start_time": "2023-02-04T10:58:01.369Z"
   },
   {
    "duration": 33,
    "start_time": "2023-02-04T10:58:01.393Z"
   },
   {
    "duration": 16,
    "start_time": "2023-02-04T10:58:01.429Z"
   },
   {
    "duration": 28,
    "start_time": "2023-02-04T10:58:01.446Z"
   },
   {
    "duration": 33,
    "start_time": "2023-02-04T10:58:01.475Z"
   },
   {
    "duration": 34,
    "start_time": "2023-02-04T10:58:01.510Z"
   },
   {
    "duration": 47,
    "start_time": "2023-02-04T10:58:01.546Z"
   },
   {
    "duration": 19,
    "start_time": "2023-02-04T10:58:01.595Z"
   },
   {
    "duration": 35,
    "start_time": "2023-02-04T10:58:01.616Z"
   },
   {
    "duration": 26,
    "start_time": "2023-02-04T10:58:01.653Z"
   },
   {
    "duration": 27,
    "start_time": "2023-02-04T10:58:01.680Z"
   },
   {
    "duration": 37,
    "start_time": "2023-02-04T10:58:01.708Z"
   },
   {
    "duration": 136,
    "start_time": "2023-02-04T10:58:01.747Z"
   },
   {
    "duration": 246,
    "start_time": "2023-02-04T10:58:01.884Z"
   },
   {
    "duration": 338,
    "start_time": "2023-02-04T10:58:02.132Z"
   },
   {
    "duration": 2924,
    "start_time": "2023-02-04T10:58:02.472Z"
   },
   {
    "duration": 11764,
    "start_time": "2023-02-04T10:58:05.397Z"
   },
   {
    "duration": 2,
    "start_time": "2023-02-04T10:58:17.162Z"
   },
   {
    "duration": 66,
    "start_time": "2023-02-04T10:58:17.166Z"
   },
   {
    "duration": 476,
    "start_time": "2023-02-04T10:58:17.234Z"
   },
   {
    "duration": 2904,
    "start_time": "2023-02-04T10:58:17.712Z"
   },
   {
    "duration": 10113,
    "start_time": "2023-02-04T10:58:20.618Z"
   },
   {
    "duration": 10774,
    "start_time": "2023-02-04T10:58:30.733Z"
   },
   {
    "duration": 439,
    "start_time": "2023-02-04T10:58:41.509Z"
   },
   {
    "duration": 182,
    "start_time": "2023-02-04T10:58:41.950Z"
   },
   {
    "duration": 160,
    "start_time": "2023-02-04T10:58:42.143Z"
   },
   {
    "duration": 10,
    "start_time": "2023-02-04T10:58:42.304Z"
   },
   {
    "duration": 9,
    "start_time": "2023-02-04T10:58:42.327Z"
   },
   {
    "duration": 14,
    "start_time": "2023-02-04T10:58:42.338Z"
   },
   {
    "duration": 772,
    "start_time": "2023-02-04T10:58:42.356Z"
   },
   {
    "duration": 9,
    "start_time": "2023-02-04T10:59:16.297Z"
   },
   {
    "duration": 13,
    "start_time": "2023-02-04T10:59:37.252Z"
   },
   {
    "duration": 36,
    "start_time": "2023-02-04T11:01:50.067Z"
   },
   {
    "duration": 190,
    "start_time": "2023-02-04T11:02:09.939Z"
   },
   {
    "duration": 43,
    "start_time": "2023-02-04T11:02:21.750Z"
   },
   {
    "duration": 68,
    "start_time": "2023-02-04T11:02:34.562Z"
   },
   {
    "duration": 17,
    "start_time": "2023-02-04T11:03:12.636Z"
   },
   {
    "duration": 500,
    "start_time": "2023-02-04T11:03:32.660Z"
   },
   {
    "duration": 162,
    "start_time": "2023-02-04T11:04:25.566Z"
   },
   {
    "duration": 5847,
    "start_time": "2023-02-04T11:04:53.892Z"
   },
   {
    "duration": 9005,
    "start_time": "2023-02-04T11:05:45.537Z"
   },
   {
    "duration": 10172,
    "start_time": "2023-02-04T11:06:04.366Z"
   },
   {
    "duration": 39805,
    "start_time": "2023-02-04T11:06:22.194Z"
   },
   {
    "duration": 4,
    "start_time": "2023-02-04T11:08:32.721Z"
   },
   {
    "duration": 44,
    "start_time": "2023-02-04T11:08:32.726Z"
   },
   {
    "duration": 3,
    "start_time": "2023-02-04T11:08:32.771Z"
   },
   {
    "duration": 15,
    "start_time": "2023-02-04T11:08:32.776Z"
   },
   {
    "duration": 12,
    "start_time": "2023-02-04T11:08:32.792Z"
   },
   {
    "duration": 48,
    "start_time": "2023-02-04T11:08:32.805Z"
   },
   {
    "duration": 1380,
    "start_time": "2023-02-04T11:08:32.855Z"
   },
   {
    "duration": 9,
    "start_time": "2023-02-04T11:08:34.237Z"
   },
   {
    "duration": 5,
    "start_time": "2023-02-04T11:08:34.247Z"
   },
   {
    "duration": 9,
    "start_time": "2023-02-04T11:08:34.254Z"
   },
   {
    "duration": 7,
    "start_time": "2023-02-04T11:08:34.264Z"
   },
   {
    "duration": 7,
    "start_time": "2023-02-04T11:08:34.272Z"
   },
   {
    "duration": 6,
    "start_time": "2023-02-04T11:08:34.280Z"
   },
   {
    "duration": 6,
    "start_time": "2023-02-04T11:08:34.288Z"
   },
   {
    "duration": 33,
    "start_time": "2023-02-04T11:08:34.296Z"
   },
   {
    "duration": 7,
    "start_time": "2023-02-04T11:08:34.330Z"
   },
   {
    "duration": 16,
    "start_time": "2023-02-04T11:08:34.338Z"
   },
   {
    "duration": 17,
    "start_time": "2023-02-04T11:08:34.356Z"
   },
   {
    "duration": 3,
    "start_time": "2023-02-04T11:08:34.374Z"
   },
   {
    "duration": 11,
    "start_time": "2023-02-04T11:08:34.379Z"
   },
   {
    "duration": 36,
    "start_time": "2023-02-04T11:08:34.392Z"
   },
   {
    "duration": 4,
    "start_time": "2023-02-04T11:08:34.429Z"
   },
   {
    "duration": 14,
    "start_time": "2023-02-04T11:08:34.435Z"
   },
   {
    "duration": 137,
    "start_time": "2023-02-04T11:08:34.450Z"
   },
   {
    "duration": 46,
    "start_time": "2023-02-04T11:08:34.589Z"
   },
   {
    "duration": 376,
    "start_time": "2023-02-04T11:08:34.728Z"
   },
   {
    "duration": 2887,
    "start_time": "2023-02-04T11:08:35.106Z"
   },
   {
    "duration": 12437,
    "start_time": "2023-02-04T11:08:37.997Z"
   },
   {
    "duration": 2,
    "start_time": "2023-02-04T11:08:50.435Z"
   },
   {
    "duration": 21,
    "start_time": "2023-02-04T11:08:50.439Z"
   },
   {
    "duration": 385,
    "start_time": "2023-02-04T11:08:50.529Z"
   },
   {
    "duration": 2872,
    "start_time": "2023-02-04T11:08:50.916Z"
   },
   {
    "duration": 10080,
    "start_time": "2023-02-04T11:08:53.790Z"
   },
   {
    "duration": 10702,
    "start_time": "2023-02-04T11:09:03.871Z"
   },
   {
    "duration": 422,
    "start_time": "2023-02-04T11:09:14.574Z"
   },
   {
    "duration": 53,
    "start_time": "2023-02-04T11:09:14.998Z"
   },
   {
    "duration": 343,
    "start_time": "2023-02-04T11:09:15.053Z"
   },
   {
    "duration": 10,
    "start_time": "2023-02-04T11:09:15.397Z"
   },
   {
    "duration": 21,
    "start_time": "2023-02-04T11:09:15.408Z"
   },
   {
    "duration": 20,
    "start_time": "2023-02-04T11:09:15.430Z"
   },
   {
    "duration": 43,
    "start_time": "2023-02-04T11:09:15.451Z"
   },
   {
    "duration": 600,
    "start_time": "2023-02-04T11:09:15.532Z"
   },
   {
    "duration": 5748,
    "start_time": "2023-02-04T11:09:16.133Z"
   },
   {
    "duration": 40079,
    "start_time": "2023-02-04T11:09:21.883Z"
   },
   {
    "duration": 749,
    "start_time": "2023-02-04T11:10:01.964Z"
   },
   {
    "duration": 724,
    "start_time": "2023-02-04T11:14:12.529Z"
   },
   {
    "duration": 776,
    "start_time": "2023-02-04T11:14:13.255Z"
   },
   {
    "duration": 464,
    "start_time": "2023-02-04T11:14:38.655Z"
   },
   {
    "duration": 473,
    "start_time": "2023-02-04T11:14:45.939Z"
   }
  ],
  "kernelspec": {
   "display_name": "Python 3 (ipykernel)",
   "language": "python",
   "name": "python3"
  },
  "language_info": {
   "codemirror_mode": {
    "name": "ipython",
    "version": 3
   },
   "file_extension": ".py",
   "mimetype": "text/x-python",
   "name": "python",
   "nbconvert_exporter": "python",
   "pygments_lexer": "ipython3",
   "version": "3.10.9"
  },
  "toc": {
   "base_numbering": 1,
   "nav_menu": {},
   "number_sections": true,
   "sideBar": true,
   "skip_h1_title": true,
   "title_cell": "Содержание",
   "title_sidebar": "Contents",
   "toc_cell": true,
   "toc_position": {
    "height": "calc(100% - 180px)",
    "left": "10px",
    "top": "150px",
    "width": "165px"
   },
   "toc_section_display": true,
   "toc_window_display": true
  }
 },
 "nbformat": 4,
 "nbformat_minor": 4
}
